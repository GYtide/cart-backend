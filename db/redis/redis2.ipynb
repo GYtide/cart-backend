{
 "cells": [
  {
   "cell_type": "code",
   "execution_count": 56,
   "metadata": {},
   "outputs": [
    {
     "ename": "TypeError",
     "evalue": "'list' object is not callable",
     "output_type": "error",
     "traceback": [
      "\u001b[0;31m---------------------------------------------------------------------------\u001b[0m",
      "\u001b[0;31mTypeError\u001b[0m                                 Traceback (most recent call last)",
      "\u001b[1;32m/home/gytide/dsrtdev/db/redis/redis2.ipynb 单元格 1\u001b[0m in \u001b[0;36m<cell line: 16>\u001b[0;34m()\u001b[0m\n\u001b[1;32m     <a href='vscode-notebook-cell://ssh-remote%2Bgytide@49.233.61.61/home/gytide/dsrtdev/db/redis/redis2.ipynb#W0sdnNjb2RlLXJlbW90ZQ%3D%3D?line=13'>14</a>\u001b[0m record \u001b[39m=\u001b[39m hdu[\u001b[39m1\u001b[39m]\u001b[39m.\u001b[39mdata[\u001b[39m0\u001b[39m]\n\u001b[1;32m     <a href='vscode-notebook-cell://ssh-remote%2Bgytide@49.233.61.61/home/gytide/dsrtdev/db/redis/redis2.ipynb#W0sdnNjb2RlLXJlbW90ZQ%3D%3D?line=14'>15</a>\u001b[0m names \u001b[39m=\u001b[39m hdu[\u001b[39m1\u001b[39m]\u001b[39m.\u001b[39mcolumns\u001b[39m.\u001b[39mnames\n\u001b[0;32m---> <a href='vscode-notebook-cell://ssh-remote%2Bgytide@49.233.61.61/home/gytide/dsrtdev/db/redis/redis2.ipynb#W0sdnNjb2RlLXJlbW90ZQ%3D%3D?line=15'>16</a>\u001b[0m data  \u001b[39m=\u001b[39m \u001b[39mlist\u001b[39;49m(record)\n\u001b[1;32m     <a href='vscode-notebook-cell://ssh-remote%2Bgytide@49.233.61.61/home/gytide/dsrtdev/db/redis/redis2.ipynb#W0sdnNjb2RlLXJlbW90ZQ%3D%3D?line=16'>17</a>\u001b[0m data_list \u001b[39m=\u001b[39m [item\u001b[39m.\u001b[39mtolist() \u001b[39mif\u001b[39;00m \u001b[39misinstance\u001b[39m(item, np\u001b[39m.\u001b[39mndarray) \u001b[39melse\u001b[39;00m item \u001b[39mfor\u001b[39;00m item \u001b[39min\u001b[39;00m data]\n\u001b[1;32m     <a href='vscode-notebook-cell://ssh-remote%2Bgytide@49.233.61.61/home/gytide/dsrtdev/db/redis/redis2.ipynb#W0sdnNjb2RlLXJlbW90ZQ%3D%3D?line=18'>19</a>\u001b[0m header \u001b[39m=\u001b[39m [{},{}]\n",
      "\u001b[0;31mTypeError\u001b[0m: 'list' object is not callable"
     ]
    }
   ],
   "source": [
    "import redis\n",
    "from astropy.io import fits\n",
    "from io import BytesIO\n",
    "import numpy as np\n",
    "import json\n",
    "# 连接到Redis\n",
    "r = redis.Redis(host='localhost', port=6379, db=0)\n",
    "\n",
    "# 读取FITS文件并获取HDUList对象\n",
    "path = r'/home/gytide/dsrtprod/data/2023/03/dsrtimg/ODACH_CART02_SRIM_L2_233MHz_20220417032600_V01.10.fits'\n",
    "\n",
    "hdu = fits.open(path)\n",
    "\n",
    "record = hdu[1].data[0]\n",
    "names = hdu[1].columns.names\n",
    "data  = list(record)\n",
    "data_list = [item.tolist() if isinstance(item, np.ndarray) else item for item in data]\n",
    "\n",
    "header = [{},{}]\n",
    "for card in hdu[0].header.cards:\n",
    "    header[0][str(card[0])] = str(card[1])\n",
    "\n",
    "for card in hdu[1].header.cards:\n",
    "    header[1][str(card[0])] = str(card[1])\n",
    "\n",
    "print(header)\n"
   ]
  },
  {
   "cell_type": "code",
   "execution_count": 3,
   "metadata": {},
   "outputs": [
    {
     "data": {
      "text/plain": [
       "[]"
      ]
     },
     "execution_count": 3,
     "metadata": {},
     "output_type": "execute_result"
    }
   ],
   "source": [
    "import redis\n",
    "from astropy.io import fits\n",
    "from io import BytesIO\n",
    "import numpy as np\n",
    "import json\n",
    "# 连接到Redis\n",
    "r = redis.Redis(host='localhost', port=6379, db=0)\n",
    "\n",
    "# 读取FITS文件并获取HDUList对象\n",
    "path = r'/home/gytide/dsrtprod/data/2023/03/dsrtimg/ODACH_CART02_SRIM_L2_233MHz_20220417032600_V01.10.fits'\n",
    "\n",
    "hdu = fits.open(path)\n",
    "\n",
    "names = hdu[1].columns.names\n",
    "num = 1\n",
    "pipe = r.pipeline()\n",
    "\n",
    "header = [{},{}]\n",
    "for card in hdu[0].header.cards:\n",
    "    header[0][str(card[0])] = str(card[1])\n",
    "\n",
    "for card in hdu[1].header.cards:\n",
    "    header[1][str(card[0])] = str(card[1])\n",
    "\n",
    "header_str =json.dumps(header)\n",
    "\n",
    "r.hset('ODACH_CART02_SRIM_L2_233MHz_20220417032600_V01.10.fits','header',header_str)\n",
    "for data in hdu[1].data :\n",
    "  data_str = str([item.tolist() if isinstance(item, np.ndarray) else item for item in data])\n",
    "  r.hset('ODACH_CART02_SRIM_L2_233MHz_20220417032600_V01.10.fits',num,data_str)\n",
    "  num = num +1\n",
    "r.expire('ODACH_CART02_SRIM_L2_233MHz_20220417032600_V01.10.fits', 60)\n",
    "pipe.execute()"
   ]
  },
  {
   "cell_type": "code",
   "execution_count": null,
   "metadata": {},
   "outputs": [
    {
     "name": "stdout",
     "output_type": "stream",
     "text": [
      "None\n"
     ]
    }
   ],
   "source": [
    "import redis\n",
    "import json\n",
    "data = r.hget(\"ODACH_CART02_SRIM_L2_233MHz_20220417032600_V01.10.fits\", 'header')\n",
    "if data: \n",
    "  arr = json.loads(data)\n",
    "  for card in header[0]:\n",
    "      print(card,header[0][card])\n",
    "else :\n",
    "  print(None)"
   ]
  },
  {
   "cell_type": "code",
   "execution_count": null,
   "metadata": {},
   "outputs": [],
   "source": [
    "import redis\n",
    "import json\n",
    "data = r.hgetall(\"ODACH_CART02_SRIM_L2_233MHz_20220417032600_V01.10.fits\")\n",
    "\n",
    "if(data):\n",
    "  data = sorted( data.items())\n",
    "  print(data[0][1])\n",
    "  for i in data:\n",
    "    print(type(i))"
   ]
  },
  {
   "cell_type": "code",
   "execution_count": null,
   "metadata": {},
   "outputs": [],
   "source": [
    "list = ['a','b','c','d','e']\n",
    "\n",
    "for i in list:\n",
    "    print(i)"
   ]
  },
  {
   "cell_type": "code",
   "execution_count": 11,
   "metadata": {},
   "outputs": [
    {
     "name": "stdout",
     "output_type": "stream",
     "text": [
      "[1, 2] [3, 4]\n",
      "0\n"
     ]
    }
   ],
   "source": [
    "import numpy as np\n",
    "a = [[1,2],[3,4]]\n",
    "\n",
    "c,d = a\n",
    "\n",
    "print(c,d)\n",
    "\n",
    "\n",
    "spe = np.array([])\n",
    "\n",
    "print(spe.size)"
   ]
  }
 ],
 "metadata": {
  "kernelspec": {
   "display_name": "dsrt",
   "language": "python",
   "name": "python3"
  },
  "language_info": {
   "codemirror_mode": {
    "name": "ipython",
    "version": 3
   },
   "file_extension": ".py",
   "mimetype": "text/x-python",
   "name": "python",
   "nbconvert_exporter": "python",
   "pygments_lexer": "ipython3",
   "version": "3.8.13"
  },
  "orig_nbformat": 4
 },
 "nbformat": 4,
 "nbformat_minor": 2
}

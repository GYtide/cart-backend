{
 "cells": [
  {
   "cell_type": "code",
   "execution_count": 22,
   "metadata": {},
   "outputs": [
    {
     "name": "stdout",
     "output_type": "stream",
     "text": [
      "[{'SIMPLE': 'True', 'BITPIX': '8', 'NAXIS': '0', 'EXTEND': 'True', 'DATE_OBS': '2022-04-17T03:26:00.291600', 'RSUN_OBS': '955.7420910987998', 'R_SUN': '7.429604441065175', 'CROTA2': '-25.35583321032033', 'TIMEBEG': '2022-04-17T03:26:00.291600', 'TIMEEND': '2022-04-17T03:39:58.916533', 'FREQBEG': '233.0', 'FREQEND': '233.0', 'CALI_TM': '2022Y6M7D8H30M', 'IF_CLEAN': 'CLEANED', 'ACCU_TM': '1606', 'DATA_LEV': 'L2', 'TIMESYS': 'UTC', 'OBS_MODE': 'NormalMode', 'QUAL_FLG': 'TBD', 'OBSERVER': 'DSRT', 'DEV_STAT': 'N', 'BUNIT': 'K', 'CAL_TEMP': 'T', 'OBJECT': 'SUN', 'DEV_LAT': '29.011', 'DEV_LON': '100.246'}, {'XTENSION': 'BINTABLE', 'BITPIX': '8', 'NAXIS': '2', 'NAXIS1': '17304', 'NAXIS2': '442', 'PCOUNT': '0', 'GCOUNT': '1', 'TFIELDS': '6', 'TTYPE1': 'time', 'TFORM1': '1J', 'TTYPE2': 'freq', 'TFORM2': '1E', 'TTYPE3': 'StokesI', 'TFORM3': '2116E', 'TDIM3': '(46,46)', 'TTYPE4': 'StokesV', 'TFORM4': '2116E', 'TDIM4': '(46,46)', 'TTYPE5': 'sunx', 'TFORM5': '46E', 'TDIM5': '(46, )', 'TTYPE6': 'suny', 'TFORM6': '46E', 'TDIM6': '(46, )', 'DATE-OBS': '2022-04-17T03:26:00.291600', 'RSUN_OBS': '955.7420910987998', 'TIMEUNIT': 'ms'}]\n"
     ]
    }
   ],
   "source": [
    "import redis\n",
    "from astropy.io import fits\n",
    "from io import BytesIO\n",
    "import numpy as np\n",
    "import json\n",
    "# 连接到Redis\n",
    "r = redis.Redis(host='localhost', port=6379, db=0)\n",
    "\n",
    "# 读取FITS文件并获取HDUList对象\n",
    "path = r'/home/gytide/dsrtprod/data/2023/03/dsrtimg/ODACH_CART02_SRIM_L2_233MHz_20220417032600_V01.10.fits'\n",
    "\n",
    "hdu = fits.open(path)\n",
    "\n",
    "record = hdu[1].data[0]\n",
    "names = hdu[1].columns.names\n",
    "data  = list(record)\n",
    "data_list = [item.tolist() if isinstance(item, np.ndarray) else item for item in data]\n",
    "\n",
    "header = [{},{}]\n",
    "for card in hdu[0].header.cards:\n",
    "    header[0][str(card[0])] = str(card[1])\n",
    "\n",
    "for card in hdu[1].header.cards:\n",
    "    header[1][str(card[0])] = str(card[1])\n",
    "\n",
    "print(header)\n"
   ]
  },
  {
   "cell_type": "code",
   "execution_count": 73,
   "metadata": {},
   "outputs": [
    {
     "data": {
      "text/plain": [
       "[]"
      ]
     },
     "execution_count": 73,
     "metadata": {},
     "output_type": "execute_result"
    }
   ],
   "source": [
    "import redis\n",
    "from astropy.io import fits\n",
    "from io import BytesIO\n",
    "import numpy as np\n",
    "import json\n",
    "# 连接到Redis\n",
    "r = redis.Redis(host='localhost', port=6379, db=0)\n",
    "\n",
    "# 读取FITS文件并获取HDUList对象\n",
    "path = r'/home/gytide/dsrtprod/data/2023/03/dsrtimg/ODACH_CART02_SRIM_L2_233MHz_20220417032600_V01.10.fits'\n",
    "\n",
    "hdu = fits.open(path)\n",
    "\n",
    "names = hdu[1].columns.names\n",
    "num = 1\n",
    "pipe = r.pipeline()\n",
    "\n",
    "header = [{},{}]\n",
    "for card in hdu[0].header.cards:\n",
    "    header[0][str(card[0])] = str(card[1])\n",
    "\n",
    "for card in hdu[1].header.cards:\n",
    "    header[1][str(card[0])] = str(card[1])\n",
    "\n",
    "header_str =json.dumps(header)\n",
    "\n",
    "r.hset('ODACH_CART02_SRIM_L2_233MHz_20220417032600_V01.10.fits','header',header_str)\n",
    "for data in hdu[1].data :\n",
    "  data_str = str([item.tolist() if isinstance(item, np.ndarray) else item for item in data])\n",
    "  r.hset('ODACH_CART02_SRIM_L2_233MHz_20220417032600_V01.10.fits',num,data_str)\n",
    "  num = num +1\n",
    "r.expire('ODACH_CART02_SRIM_L2_233MHz_20220417032600_V01.10.fits', 60)\n",
    "pipe.execute()"
   ]
  },
  {
   "cell_type": "code",
   "execution_count": 74,
   "metadata": {},
   "outputs": [
    {
     "name": "stdout",
     "output_type": "stream",
     "text": [
      "SIMPLE True\n",
      "BITPIX 8\n",
      "NAXIS 0\n",
      "EXTEND True\n",
      "DATE_OBS 2022-04-17T03:26:00.291600\n",
      "RSUN_OBS 955.7420910987998\n",
      "R_SUN 7.429604441065175\n",
      "CROTA2 -25.35583321032033\n",
      "TIMEBEG 2022-04-17T03:26:00.291600\n",
      "TIMEEND 2022-04-17T03:39:58.916533\n",
      "FREQBEG 233.0\n",
      "FREQEND 233.0\n",
      "CALI_TM 2022Y6M7D8H30M\n",
      "IF_CLEAN CLEANED\n",
      "ACCU_TM 1606\n",
      "DATA_LEV L2\n",
      "TIMESYS UTC\n",
      "OBS_MODE NormalMode\n",
      "QUAL_FLG TBD\n",
      "OBSERVER DSRT\n",
      "DEV_STAT N\n",
      "BUNIT K\n",
      "CAL_TEMP T\n",
      "OBJECT SUN\n",
      "DEV_LAT 29.011\n",
      "DEV_LON 100.246\n"
     ]
    }
   ],
   "source": [
    "import redis\n",
    "import json\n",
    "data = r.hget(\"ODACH_CART02_SRIM_L2_233MHz_20220417032600_V01.10.fits\", 'header')\n",
    "if data: \n",
    "  arr = json.loads(data)\n",
    "  for card in header[0]:\n",
    "      print(card,header[0][card])\n",
    "else :\n",
    "  print(None)"
   ]
  }
 ],
 "metadata": {
  "kernelspec": {
   "display_name": "dsrt",
   "language": "python",
   "name": "python3"
  },
  "language_info": {
   "codemirror_mode": {
    "name": "ipython",
    "version": 3
   },
   "file_extension": ".py",
   "mimetype": "text/x-python",
   "name": "python",
   "nbconvert_exporter": "python",
   "pygments_lexer": "ipython3",
   "version": "3.8.13"
  },
  "orig_nbformat": 4
 },
 "nbformat": 4,
 "nbformat_minor": 2
}

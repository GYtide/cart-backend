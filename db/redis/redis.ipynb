{
 "cells": [
  {
   "cell_type": "code",
   "execution_count": null,
   "metadata": {},
   "outputs": [],
   "source": [
    "import redis\n",
    "from astropy.io import fits\n",
    "from io import BytesIO\n",
    "pool = redis.ConnectionPool(host='localhost', port=6379, decode_responses=True)\n",
    "r = redis.Redis(connection_pool=pool)\n",
    "path = r'/home/gytide/dsrtprod/data/2023/03/dsrtimg/ODACH_CART02_SRIM_L2_233MHz_20220417032600_V01.10.fits'\n",
    "buffer = BytesIO()\n",
    "with fits.open(path) as hdul:\n",
    "  hdulist = hdul.copy()\n",
    "\n",
    "# 将HDUList对象序列化为字节串\n",
    "  hdulist.writeto(buffer)\n",
    "print(type(buffer))\n",
    "\n",
    "r.set('ODACH_CART02_SRIM_L2_233MHz_20220417032600_V01.10.fits',buffer.getvalue(), ex=30)    # key是\"food\" value是\"mutton\" 将键值对存入redis缓存\n"
   ]
  },
  {
   "cell_type": "code",
   "execution_count": 5,
   "metadata": {},
   "outputs": [
    {
     "name": "stdout",
     "output_type": "stream",
     "text": [
      "no file\n"
     ]
    }
   ],
   "source": [
    "import redis\n",
    "\n",
    "pool = redis.ConnectionPool(host='localhost', port=6379, decode_responses=False)\n",
    "r = redis.Redis(connection_pool=pool)\n",
    "# 从Redis获取BytesIO对象\n",
    "cached_buffer = r.get('ODACH_CART02_SRIM_L2_233MHz_20220417032600_V01.10.fits')\n",
    "\n",
    "if cached_buffer:\n",
    "  # 将字节串写入到一个新的BytesIO对象\n",
    "  retrieved_buffer = BytesIO(cached_buffer)\n",
    "\n",
    "  # 使用BytesIO对象创建HDUList对象\n",
    "  retrieved_hdulist = fits.open(retrieved_buffer)\n",
    "  print(retrieved_hdulist[1].data[0])\n",
    "else:\n",
    "  print('no file')\n"
   ]
  },
  {
   "cell_type": "code",
   "execution_count": 71,
   "metadata": {},
   "outputs": [
    {
     "name": "stdout",
     "output_type": "stream",
     "text": [
      "Retrieved HDUList: [<astropy.io.fits.hdu.image.PrimaryHDU object at 0x7f658deb98b0>, <astropy.io.fits.hdu.table.BinTableHDU object at 0x7f658df69e50>]\n"
     ]
    }
   ],
   "source": [
    "import redis\n",
    "from astropy.io import fits\n",
    "from io import BytesIO\n",
    "\n",
    "# 连接到Redis\n",
    "r = redis.Redis(host='localhost', port=6379, db=0)\n",
    "\n",
    "# 读取FITS文件并获取HDUList对象\n",
    "path = r'/home/gytide/dsrtprod/data/2023/03/dsrtimg/ODACH_CART02_SRIM_L2_233MHz_20220417032600_V01.10.fits'\n",
    "\n",
    "buffer = BytesIO()\n",
    "with fits.open(path) as hdul:\n",
    "    hdulist = hdul.copy()\n",
    "\n",
    "# 将HDUList对象写入到BytesIO对象\n",
    "    hdulist.writeto(buffer)\n",
    "\n",
    "# 将BytesIO对象存储到Redis\n",
    "r.set('ODACH_CART02_SRIM_L2_233MHz_20220417032600_V01.10.fits', buffer.getvalue(),ex=30)\n",
    "\n",
    "# 从Redis获取BytesIO对象\n",
    "cached_buffer = r.get('ODACH_CART02_SRIM_L2_233MHz_20220417032600_V01.10.fits')\n",
    "\n",
    "# 将字节串写入到一个新的BytesIO对象\n",
    "retrieved_buffer = BytesIO(cached_buffer)\n",
    "\n",
    "# 使用BytesIO对象创建HDUList对象\n",
    "retrieved_hdulist = fits.open(retrieved_buffer)\n",
    "\n",
    "# 使用HDUList对象\n",
    "print(\"Retrieved HDUList:\", retrieved_hdulist)\n"
   ]
  },
  {
   "cell_type": "code",
   "execution_count": 54,
   "metadata": {},
   "outputs": [
    {
     "name": "stdout",
     "output_type": "stream",
     "text": [
      "Retrieved HDUList: [<astropy.io.fits.hdu.image.PrimaryHDU object at 0x7f658df69ca0>, <astropy.io.fits.hdu.table.BinTableHDU object at 0x7f658ded5370>]\n"
     ]
    }
   ],
   "source": [
    "import redis\n",
    "from astropy.io import fits\n",
    "from io import BytesIO\n",
    "r = redis.Redis(host='localhost', port=6379, db=0)\n",
    "# 从Redis获取BytesIO对象\n",
    "cached_buffer = r.get('ODACH_CART02_SRIM_L2_233MHz_20220417032600_V01.10.fits')\n",
    "\n",
    "# 将字节串写入到一个新的BytesIO对象\n",
    "retrieved_buffer = BytesIO(cached_buffer)\n",
    "\n",
    "# 使用BytesIO对象创建HDUList对象\n",
    "retrieved_hdulist = fits.open(retrieved_buffer)\n",
    "\n",
    "# 使用HDUList对象\n",
    "print(\"Retrieved HDUList:\", retrieved_hdulist)\n"
   ]
  }
 ],
 "metadata": {
  "kernelspec": {
   "display_name": "dsrt",
   "language": "python",
   "name": "python3"
  },
  "language_info": {
   "codemirror_mode": {
    "name": "ipython",
    "version": 3
   },
   "file_extension": ".py",
   "mimetype": "text/x-python",
   "name": "python",
   "nbconvert_exporter": "python",
   "pygments_lexer": "ipython3",
   "version": "3.8.13"
  },
  "orig_nbformat": 4
 },
 "nbformat": 4,
 "nbformat_minor": 2
}

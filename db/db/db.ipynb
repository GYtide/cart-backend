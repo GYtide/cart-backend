{
 "cells": [
  {
   "cell_type": "code",
   "execution_count": null,
   "metadata": {},
   "outputs": [],
   "source": [
    "# 尝试json\n",
    "from astropy.io import fits\n",
    "import os\n",
    "from pathlib import Path\n",
    "import json\n",
    "path = r'/home/gytide/dsrtprod/data/2023/03/project_image/PRO20230301.fits'\n",
    "# 读取文件 \n",
    "hdu = fits.open(path)\n",
    "data = hdu[0].data #float32\n",
    "timearr = hdu[1].data['TIME'] #int32\n",
    "\n",
    "print(data,timearr[0])\n",
    "# 先尝试使用 json\n",
    "\n",
    "data.tolist()\n",
    "\n",
    "# jsondata = {\n",
    "#     \"data\":data.tolist(),\n",
    "#     \"timearr\":timearr.tolist()\n",
    "# }\n",
    "\n",
    "# resp = jsondata.dumps(jsondata)\n",
    "# print(resp)"
   ]
  },
  {
   "cell_type": "code",
   "execution_count": null,
   "metadata": {},
   "outputs": [],
   "source": [
    "# 将目录文件读出导入数据库\n",
    "import os\n",
    "import mysql.connector\n",
    "from astropy.io import fits\n",
    "\n",
    "# 创建 MySQL 数据库连接\n",
    "cnx = mysql.connector.connect(user='root', password='dsrt2023',\n",
    "                              host='127.0.0.1', database='dsrt2')\n",
    "\n",
    "# 创建游标\n",
    "cursor = cnx.cursor()\n",
    "\n",
    "# 遍历目录下的所有文件\n",
    "for dirpath, dirnames, filenames in os.walk('/home/gytide/dsrtprod/data/2023/03/dsrtspe'):\n",
    "    for filename in filenames:\n",
    "        # 获取文件完整路径\n",
    "        filepath = os.path.join(dirpath, filename)\n",
    "        # 取出时间信息\n",
    "\n",
    "        hdu = fits.open(filepath)\n",
    "\n",
    "        header = hdu[0].header\n",
    "\n",
    "        start = header['DATE_BEG']\n",
    "        end = header['DATE_END']\n",
    "\n",
    "        print(start,end)\n",
    "        # 获取文件信息\n",
    "        # filesize = os.path.getsize(filepath)\n",
    "        # modification_time = os.path.getmtime(filepath)\n",
    "\n",
    "        # 将文件信息插入到数据库中\n",
    "        insert_query = \"INSERT INTO spec_data (file_name, file_path, time_begin,time_end) VALUES (%s, %s, %s,%s)\"\n",
    "        values = (filename, filepath, start,end)\n",
    "        cursor.execute(insert_query, values)\n",
    "\n",
    "# 提交更改并关闭游标和连接\n",
    "cnx.commit()\n",
    "cursor.close()\n",
    "cnx.close()"
   ]
  },
  {
   "cell_type": "code",
   "execution_count": 6,
   "metadata": {},
   "outputs": [
    {
     "name": "stdout",
     "output_type": "stream",
     "text": [
      "2022-04-17T03:26:00.291600 2022-04-17T03:39:58.916533\n",
      "2022-04-17T03:26:00.291600 2022-04-17T03:39:58.916533\n",
      "2022-04-17T03:26:00.291600 2022-04-17T03:39:58.916533\n",
      "2022-04-17T03:26:00.291600 2022-04-17T03:39:58.916533\n"
     ]
    }
   ],
   "source": [
    "# 插入成像数据\n",
    "\n",
    "# 将目录文件读出导入数据库\n",
    "import os\n",
    "import mysql.connector\n",
    "from astropy.io import fits\n",
    "\n",
    "# 创建 MySQL 数据库连接\n",
    "cnx = mysql.connector.connect(user='root', password='dsrt2023',\n",
    "                              host='127.0.0.1', database='dsrt2')\n",
    "\n",
    "# 创建游标\n",
    "cursor = cnx.cursor()\n",
    "\n",
    "# 遍历目录下的所有文件\n",
    "for dirpath, dirnames, filenames in os.walk('/home/gytide/dsrtprod/data/2023/03/dsrtimg'):\n",
    "    for filename in filenames:\n",
    "        # 获取文件完整路径\n",
    "        filepath = os.path.join(dirpath, filename)\n",
    "        # 取出时间信息\n",
    "\n",
    "        hdu = fits.open(filepath)\n",
    "\n",
    "        header = hdu[0].header\n",
    "\n",
    "        start = header['TIMEBEG']\n",
    "        end = header['TIMEEND']\n",
    "\n",
    "\n",
    "        print(start,end)\n",
    "        # 获取文件信息\n",
    "        # filesize = os.path.getsize(filepath)\n",
    "        # modification_time = os.path.getmtime(filepath)\n",
    "\n",
    "        # 将文件信息插入到数据库中\n",
    "        insert_query = \"INSERT INTO image_data (file_name, file_path, time_begin,time_end,freq) VALUES (%s, %s, %s,%s,%s)\"\n",
    "        values = (filename, filepath, start,end,'233.0')\n",
    "        cursor.execute(insert_query, values)\n",
    "\n",
    "# 提交更改并关闭游标和连接\n",
    "cnx.commit()\n",
    "cursor.close()\n",
    "cnx.close()"
   ]
  }
 ],
 "metadata": {
  "kernelspec": {
   "display_name": "dsrtdev",
   "language": "python",
   "name": "python3"
  },
  "language_info": {
   "codemirror_mode": {
    "name": "ipython",
    "version": 3
   },
   "file_extension": ".py",
   "mimetype": "text/x-python",
   "name": "python",
   "nbconvert_exporter": "python",
   "pygments_lexer": "ipython3",
   "version": "3.10.8"
  },
  "orig_nbformat": 4,
  "vscode": {
   "interpreter": {
    "hash": "8e2b0de3711fb5d9ea933a1053ee4d25f6ca69e5f1f07c345aab1b061cd16890"
   }
  }
 },
 "nbformat": 4,
 "nbformat_minor": 2
}

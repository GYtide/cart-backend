{
 "cells": [
  {
   "attachments": {},
   "cell_type": "markdown",
   "metadata": {},
   "source": [
    "`生成模拟数据库数据的json文件`"
   ]
  },
  {
   "cell_type": "code",
   "execution_count": null,
   "metadata": {},
   "outputs": [],
   "source": [
    "# 模拟指定日期数据存在性的信息，用于生成日历色块图\n",
    "import numpy as np\n",
    "from datetime import datetime , timedelta \n",
    "# from datetime import  date\n",
    "import random\n",
    "import json\n",
    "\n",
    "begstr = '2020/01/01'\n",
    "\n",
    "date = datetime.strptime(begstr,'%Y/%m/%d')\n",
    "# print(begdate.date().year)\n",
    "\n",
    "a = []\n",
    "\n",
    "for i in range(0,366):\n",
    "    a.append({\n",
    "        \"year\":date.date().year,\n",
    "        \"month\":date.date().month,\n",
    "        \"day\":date.date().day,\n",
    "        \"value\": random.randint(0,1000)\n",
    "    })\n",
    "    date =  date + timedelta(days=1)\n",
    "\n",
    "# print(a)\n",
    "json_str = json.dumps(a)\n",
    "\n",
    "print(json_str)\n",
    "\n",
    "out_file = open('2020datedata.json',\"w\")\n",
    "\n",
    "json.dump(a,out_file)\n",
    "\n",
    "\n",
    "\n"
   ]
  }
 ],
 "metadata": {
  "kernelspec": {
   "display_name": "dsrtdev",
   "language": "python",
   "name": "python3"
  },
  "language_info": {
   "codemirror_mode": {
    "name": "ipython",
    "version": 3
   },
   "file_extension": ".py",
   "mimetype": "text/x-python",
   "name": "python",
   "nbconvert_exporter": "python",
   "pygments_lexer": "ipython3",
   "version": "3.10.8 (main, Nov 24 2022, 14:13:03) [GCC 11.2.0]"
  },
  "orig_nbformat": 4,
  "vscode": {
   "interpreter": {
    "hash": "8e2b0de3711fb5d9ea933a1053ee4d25f6ca69e5f1f07c345aab1b061cd16890"
   }
  }
 },
 "nbformat": 4,
 "nbformat_minor": 2
}

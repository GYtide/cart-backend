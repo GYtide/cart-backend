{
 "cells": [
  {
   "attachments": {},
   "cell_type": "markdown",
   "metadata": {},
   "source": [
    "`生成频谱数据的整合预览图,抽样压缩`"
   ]
  },
  {
   "cell_type": "code",
   "execution_count": 21,
   "metadata": {},
   "outputs": [],
   "source": [
    "from astropy.io import fits\n",
    "\n",
    "from array import array\n",
    "path = '/home/gytide/dsrtdev/date/spesketch/SPE20210829.fits'\n",
    "\n",
    "hdu = fits.open(path)\n",
    "\n",
    "hdu[0].data[0].shape\n",
    "\n",
    "data  = hdu[0].data[0]\n",
    "# data = data.reshape(data.shape[0]*data.shape[1])\n",
    "\n",
    "time = hdu[1].data['TIME'][0]\n",
    "\n",
    "frequency =  hdu[1].data['FREQUENCY'][0]\n",
    "\n",
    "\n",
    "mintime = time[0::20]\n",
    "\n",
    "minfrequency = frequency[0::20]\n",
    "\n",
    "mindata = data[0::20,0::20]\n",
    "\n",
    "mindata = mindata.reshape(mindata.shape[0]*mindata.shape[1])\n",
    "\n",
    "# print(mindata)\n",
    "\n",
    "p1 = 'mminfrequency.bin'\n",
    "p2 = 'mmintime.bin'\n",
    "p3 = 'mmindata.bin'\n",
    "\n",
    "binfile = open(p3,'wb')\n",
    "\n",
    "float_array = array('B', mindata)\n",
    "float_array.tofile(binfile)\n",
    "\n",
    "# binfile.write(frequency)\n",
    "\n",
    "binfile.close()\n",
    "hdu.close()\n",
    "\n"
   ]
  },
  {
   "cell_type": "code",
   "execution_count": null,
   "metadata": {},
   "outputs": [],
   "source": [
    "from astropy.io import fits\n",
    "\n",
    "from array import array\n",
    "path = '/home/gytide/dsrtdev/date/spesketch/SPE20210829.fits'\n",
    "\n",
    "hdu = fits.open(path)\n",
    "\n",
    "hdu[0].data[0].shape\n",
    "\n",
    "data  = hdu[0].data[0]\n",
    "# data = data.reshape(data.shape[0]*data.shape[1])\n",
    "\n",
    "time = hdu[1].data['TIME'][0]\n",
    "\n",
    "frequency =  hdu[1].data['FREQUENCY'][0]\n",
    "\n",
    "mintime = time[0::10]\n",
    "\n",
    "minfrequency = frequency[0::10]\n",
    "\n",
    "mindata = data[0::10,0::10]\n",
    "\n",
    "mindata\n",
    "# print(mindata.shape,minfrequency.shape,mintime.shape)\n",
    "\n",
    "\n"
   ]
  }
 ],
 "metadata": {
  "kernelspec": {
   "display_name": "dsrtdev",
   "language": "python",
   "name": "python3"
  },
  "language_info": {
   "codemirror_mode": {
    "name": "ipython",
    "version": 3
   },
   "file_extension": ".py",
   "mimetype": "text/x-python",
   "name": "python",
   "nbconvert_exporter": "python",
   "pygments_lexer": "ipython3",
   "version": "3.10.8 (main, Nov 24 2022, 14:13:03) [GCC 11.2.0]"
  },
  "orig_nbformat": 4,
  "vscode": {
   "interpreter": {
    "hash": "8e2b0de3711fb5d9ea933a1053ee4d25f6ca69e5f1f07c345aab1b061cd16890"
   }
  }
 },
 "nbformat": 4,
 "nbformat_minor": 2
}

{
 "cells": [
  {
   "attachments": {},
   "cell_type": "markdown",
   "metadata": {},
   "source": [
    "`生成1维投影数据的预览图`"
   ]
  },
  {
   "cell_type": "code",
   "execution_count": 20,
   "metadata": {},
   "outputs": [
    {
     "name": "stdout",
     "output_type": "stream",
     "text": [
      "[-200228.69 -115421.97 -310278.94 ... -310278.94 -115421.97 -200228.69]\n",
      "[35400 35415 35430 ... 53895 53910 53925]\n"
     ]
    }
   ],
   "source": [
    "from astropy.io import fits\n",
    "from array import array\n",
    "path = '/home/gytide/dsrtdev/date/oned/DSRT_1D_150.900000MHz_I_EW_20210829095000.fits'\n",
    "hdu = fits.open(path)\n",
    "\n",
    "data = hdu[0].data[0]\n",
    "\n",
    "time = hdu[1].data['TIME']\n",
    "\n",
    "# 拉长事间范围\n",
    "print(data)\n",
    "\n",
    "timeb = time[0]\n",
    "\n",
    "for i in range(0,len(time)):\n",
    "    time[i] = (timeb + 15000*i)/1000\n",
    "\n",
    "print(time)\n",
    "\n",
    "datafn = '1Dproject.bin'\n",
    "timefn = '1Dtime.bin'\n",
    "\n",
    "binfile = open(timefn,'wb')\n",
    "\n",
    "float_array = array('I', time)\n",
    "float_array.tofile(binfile)\n",
    "\n",
    "# binfile.write(frequency)\n",
    "\n",
    "binfile.close()\n"
   ]
  }
 ],
 "metadata": {
  "kernelspec": {
   "display_name": "dsrt",
   "language": "python",
   "name": "python3"
  },
  "language_info": {
   "codemirror_mode": {
    "name": "ipython",
    "version": 3
   },
   "file_extension": ".py",
   "mimetype": "text/x-python",
   "name": "python",
   "nbconvert_exporter": "python",
   "pygments_lexer": "ipython3",
   "version": "3.8.13 | packaged by conda-forge | (default, Mar 25 2022, 06:04:10) \n[GCC 10.3.0]"
  },
  "orig_nbformat": 4,
  "vscode": {
   "interpreter": {
    "hash": "4ed4c61f50e6574cb82be41c5e111fe70a31935b1fba574891cfb4390196f84b"
   }
  }
 },
 "nbformat": 4,
 "nbformat_minor": 2
}

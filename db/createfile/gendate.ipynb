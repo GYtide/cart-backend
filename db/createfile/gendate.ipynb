{
 "cells": [
  {
   "attachments": {},
   "cell_type": "markdown",
   "metadata": {},
   "source": [
    "`生成模拟数据库数据的文件`"
   ]
  },
  {
   "cell_type": "code",
   "execution_count": null,
   "metadata": {},
   "outputs": [],
   "source": [
    "# 模拟指定日期数据存在性的信息，用于生成日历色块图\n",
    "import numpy as np\n",
    "from datetime import datetime , timedelta \n",
    "# from datetime import  date\n",
    "import random\n",
    "import json\n",
    "\n",
    "begstr = '2020/01/01'\n",
    "\n",
    "date = datetime.strptime(begstr,'%Y/%m/%d')\n",
    "# print(begdate.date().year)\n",
    "\n",
    "a = []\n",
    "\n",
    "for i in range(0,366):\n",
    "    a.append({\n",
    "        \"year\":date.date().year,\n",
    "        \"month\":date.date().month,\n",
    "        \"day\":date.date().day,\n",
    "        \"value\": random.randint(0,1000)\n",
    "    })\n",
    "    date =  date + timedelta(days=1)\n",
    "\n",
    "# print(a)\n",
    "json_str = json.dumps(a)\n",
    "\n",
    "print(json_str)\n",
    "\n",
    "out_file = open('2020datedata.json',\"w\")\n",
    "\n",
    "json.dump(a,out_file)\n",
    "\n",
    "\n",
    "\n"
   ]
  },
  {
   "cell_type": "code",
   "execution_count": 23,
   "metadata": {},
   "outputs": [],
   "source": [
    "# 抽取一张图片\n",
    "\n",
    "import numpy as np\n",
    "from datetime import datetime , timedelta \n",
    "from astropy.io import fits\n",
    "from array import array\n",
    "\n",
    "path = r'/home/gytide/dsrtdev/date/img/20210829/ODACH_DSRT02_SRIM_L2_150.900000MHz_20210829095000.fits'\n",
    "hdu = fits.open(path)\n",
    "\n",
    "data = hdu[1].data['stokesi']\n",
    "\n",
    "arr = data[0]\n",
    "\n",
    "hdu.close()\n",
    "arr = arr.reshape(arr.shape[0]*arr.shape[1])\n",
    "\n",
    "binfile = open('image.bin','wb')\n",
    "\n",
    "float_array = array('f', arr)\n",
    "\n",
    "binfile.write(float_array)\n",
    "\n",
    "binfile.close()\n",
    "\n",
    "\n"
   ]
  },
  {
   "cell_type": "code",
   "execution_count": 3,
   "metadata": {},
   "outputs": [
    {
     "name": "stdout",
     "output_type": "stream",
     "text": [
      "(128, 128)\n"
     ]
    }
   ],
   "source": [
    "# 抽取一张图片生成fits\n",
    "\n",
    "import numpy as np\n",
    "from datetime import datetime , timedelta \n",
    "from astropy.io import fits\n",
    "\n",
    "path = r'/home/gytide/dsrtdev/date/img/20210829/ODACH_DSRT02_SRIM_L2_150.900000MHz_20210829095000.fits'\n",
    "hdu = fits.open(path)\n",
    "\n",
    "data = hdu[1].data['stokesi']\n",
    "\n",
    "arr = data[0]\n",
    "\n",
    "print(arr.shape)\n",
    "\n",
    "nhdu = fits.PrimaryHDU(arr)\n",
    "\n",
    "# 将PrimaryHDU对象保存为一个FITS文件\n",
    "nhdu.writeto('matrix.fits', overwrite=True)\n"
   ]
  },
  {
   "cell_type": "code",
   "execution_count": 26,
   "metadata": {},
   "outputs": [
    {
     "name": "stdout",
     "output_type": "stream",
     "text": [
      "(128,) (128,)\n"
     ]
    }
   ],
   "source": [
    "# 抽取一个图片的其中一行和一列\n",
    "\n",
    "import numpy as np\n",
    "from datetime import datetime , timedelta \n",
    "from astropy.io import fits\n",
    "from array import array\n",
    "\n",
    "path = r'/home/gytide/dsrtdev/date/img/20210829/ODACH_DSRT02_SRIM_L2_150.900000MHz_20210829095000.fits'\n",
    "hdu = fits.open(path)\n",
    "\n",
    "data = hdu[1].data['stokesi']\n",
    "\n",
    "arr = data[0]\n",
    "\n",
    "hdu.close()\n",
    "\n",
    "xarr = arr[0][:]\n",
    "yarr = arr[:][0]\n",
    "\n",
    "print(xarr.shape,yarr.shape)\n",
    "\n",
    "binfile = open('yarr.bin','wb')\n",
    "\n",
    "float_array = array('f', yarr)\n",
    "\n",
    "binfile.write(float_array)\n",
    "\n",
    "binfile.close()\n"
   ]
  },
  {
   "cell_type": "code",
   "execution_count": 1,
   "metadata": {},
   "outputs": [],
   "source": [
    "# 生成0-127并保存为Uint8文件\n",
    "\n",
    "import array\n",
    "\n",
    "# 生成包含 0 到 127 的顺序数列\n",
    "data = array.array('B', range(128))\n",
    "\n",
    "# 将数列保存为二进制文件\n",
    "with open('data.bin', 'wb') as f:\n",
    "    f.write(data)"
   ]
  }
 ],
 "metadata": {
  "kernelspec": {
   "display_name": "dsrtdev",
   "language": "python",
   "name": "python3"
  },
  "language_info": {
   "codemirror_mode": {
    "name": "ipython",
    "version": 3
   },
   "file_extension": ".py",
   "mimetype": "text/x-python",
   "name": "python",
   "nbconvert_exporter": "python",
   "pygments_lexer": "ipython3",
   "version": "3.10.8 (main, Nov 24 2022, 14:13:03) [GCC 11.2.0]"
  },
  "orig_nbformat": 4,
  "vscode": {
   "interpreter": {
    "hash": "8e2b0de3711fb5d9ea933a1053ee4d25f6ca69e5f1f07c345aab1b061cd16890"
   }
  }
 },
 "nbformat": 4,
 "nbformat_minor": 2
}

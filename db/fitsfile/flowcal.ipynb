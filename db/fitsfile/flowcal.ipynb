{
 "cells": [
  {
   "cell_type": "code",
   "execution_count": 19,
   "metadata": {},
   "outputs": [
    {
     "name": "stdout",
     "output_type": "stream",
     "text": [
      "[ 6  7  8  9 10 11 12 13]\n",
      "[28 29 30 31 32 33]\n",
      "[ 78992.734  81891.02   86902.125 105382.26  122716.01  133533.83\n",
      " 145907.5   137671.31  132630.56  136191.47  136389.33  131298.31\n",
      " 133405.95  123320.984 122028.945 160263.58  207121.52  285056.84\n",
      " 329948.44  300179.34  259511.95  210843.42  182322.83  194573.31\n",
      " 198262.77  153275.73  125089.375 101649.57   99914.39  121190.47\n",
      " 112981.445 124476.77  143497.11  138524.73  135221.19  165458.64\n",
      " 183686.23  133436.61   99401.5    86225.56   78349.09   78394.625\n",
      "  79457.65   78463.695  76421.87   73954.766]\n",
      "4571040.0\n"
     ]
    }
   ],
   "source": [
    "from astropy.io import fits\n",
    "import numpy as np\n",
    "path = r'/home/gytide/dsrtprod/data/2023/03/dsrtimg/ODACH_CART02_SRIM_L2_233MHz_20220417032600_V01.10.fits'\n",
    "\n",
    "hdu = fits.open(path)\n",
    "\n",
    "area = [[-2101.683788121991, -1064.8009630818624], [704.993720565149, 1511.9073783359495]]\n",
    "\n",
    "data = hdu[1].data[0]\n",
    "\n",
    "stokesi = data[2]\n",
    "stokesv = data[3]\n",
    "sunx = data[4]\n",
    "suny = data[5]\n",
    "sunxindex = np.where((sunx >= area[0][0]) & (sunx <= area[0][1]))[0]\n",
    "sunyindex = np.where((suny >= area[1][0]) & (suny <= area[1][1]))[0]\n",
    "print(sunxindex)\n",
    "print(sunyindex)\n",
    "print(stokesi[28])\n",
    "sub_arr = stokesi[np.ix_( sunyindex,sunxindex)]\n",
    "print(np.sum(sub_arr))\n",
    "# for table in data:\n",
    "    \n",
    "\n"
   ]
  },
  {
   "cell_type": "code",
   "execution_count": 22,
   "metadata": {},
   "outputs": [
    {
     "name": "stdout",
     "output_type": "stream",
     "text": [
      "1\n",
      "2\n",
      "3\n",
      "4\n",
      "5\n",
      "6\n"
     ]
    }
   ],
   "source": [
    "list = [1,2,3,4,5,6,7]\n",
    "\n",
    "for i in list[0:-1]:\n",
    "    print(i)"
   ]
  }
 ],
 "metadata": {
  "kernelspec": {
   "display_name": "dsrt",
   "language": "python",
   "name": "python3"
  },
  "language_info": {
   "codemirror_mode": {
    "name": "ipython",
    "version": 3
   },
   "file_extension": ".py",
   "mimetype": "text/x-python",
   "name": "python",
   "nbconvert_exporter": "python",
   "pygments_lexer": "ipython3",
   "version": "3.8.13"
  },
  "orig_nbformat": 4
 },
 "nbformat": 4,
 "nbformat_minor": 2
}

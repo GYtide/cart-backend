{
 "cells": [
  {
   "cell_type": "code",
   "execution_count": null,
   "metadata": {},
   "outputs": [],
   "source": [
    "# 更改采样间隔，减小频谱预览文件的大小\n",
    "import numpy as np\n",
    "from datetime import datetime , timedelta \n",
    "from astropy.io import fits\n",
    "\n",
    "path = r'/home/gytide/dsrtprod/data/2023/03/spedata/ODACH_DSRT05_SRSP_L1_II_20220417000505.fits'\n",
    "hdu = fits.open(path)\n",
    "\n",
    "data = hdu[0].data\n",
    "\n",
    "\n",
    "data = data[0::10,0::10]\n",
    "\n",
    "print(data.shape)\n",
    "\n",
    "time = hdu[1].data['TIME']\n",
    "time = time[0:1,0::10]\n",
    "\n",
    "print(time.shape)\n",
    "\n",
    "fre = hdu[1].data['FREQUENCY']\n",
    "fre = fre[0:1,0::10]\n",
    "print(fre.shape)\n",
    "\n",
    "\n",
    "min = data.min()\n",
    "\n",
    "max = data.max()\n",
    "\n",
    "data = data - min\n",
    "\n",
    "data = data*255/(max-min)\n",
    "\n",
    "print(data.astype(np.int8))\n",
    "\n",
    "# 从 float64 转换为 int8\n",
    "data = data.astype(np.int8)\n",
    "\n",
    "\n",
    "\n",
    "\n"
   ]
  },
  {
   "cell_type": "code",
   "execution_count": null,
   "metadata": {},
   "outputs": [],
   "source": [
    "# 更改采样间隔，减小频谱预览文件的大小\n",
    "import numpy as np\n",
    "from datetime import datetime , timedelta \n",
    "from astropy.io import fits\n",
    "\n",
    "path = r'/home/gytide/dsrtprod/data/2023/03/spedata/ODACH_DSRT05_SRSP_L1_II_20220417000505.fits'\n",
    "hdu = fits.open(path)\n",
    "\n",
    "data = hdu[0].data\n",
    "\n",
    "\n",
    "data = data[0::10,0::10]\n",
    "\n",
    "print(data.shape)\n",
    "\n",
    "time = hdu[1].data['TIME']\n",
    "time = time[0:1,0::10]\n",
    "\n",
    "print(time.shape)\n",
    "\n",
    "fre = hdu[1].data['FREQUENCY']\n",
    "fre = fre[0:1,0::10]\n",
    "print(fre.shape)\n",
    "\n",
    "hdu.close()\n",
    "\n",
    "# min = data.min()\n",
    "\n",
    "# max = data.max()\n",
    "\n",
    "# data = data - min\n",
    "\n",
    "# data = data*255/(max-min)\n",
    "\n",
    "# 从 float64 转换为 int8\n",
    "data = data.astype(np.int8)\n",
    "\n",
    "\n",
    "\n",
    "# 创建主表并添加数组\n",
    "primary_hdu = fits.PrimaryHDU(data)\n",
    "\n",
    "# 创建附表并添加两个二维数组\n",
    "table_1 = fits.BinTableHDU.from_columns([fits.Column(name='TIME', array=time ,format='%dD'% time.size ),\n",
    "                                          fits.Column(name='FREQUENCY', array=fre ,format='%dD'%fre.size)])\n",
    "table_1.name = 'ext1'\n",
    "\n",
    "# 将主表和附表添加到 HDUList 中\n",
    "hdulist = fits.HDUList([primary_hdu, table_1])\n",
    "\n",
    "# 将 HDUList 对象写入文件\n",
    "hdulist.writeto('example.fits', overwrite=True)\n",
    "\n",
    "\n"
   ]
  },
  {
   "cell_type": "code",
   "execution_count": 10,
   "metadata": {},
   "outputs": [],
   "source": [
    "from astropy.io import fits\n",
    "import numpy as np\n",
    "\n",
    "# 生成一个三维数组\n",
    "arr_3d = np.zeros((3, 4, 5))\n",
    "\n",
    "# 生成两个二维数组\n",
    "arr_2d_1 = np.ones((2, 3))\n",
    "arr_2d_2 = np.full((3, 4), 2)\n",
    "\n",
    "# 创建主表并添加三维数组\n",
    "primary_hdu = fits.PrimaryHDU(arr_3d)\n",
    "\n",
    "# 创建附表并添加两个二维数组\n",
    "table_1 = fits.BinTableHDU.from_columns([fits.Column(name='col1', array=arr_2d_1 ,format='%dD'% arr_2d_1.size ),\n",
    "                                          fits.Column(name='col2', array=arr_2d_2 ,format='%dD'%arr_2d_2.size)])\n",
    "table_1.name = 'table1'\n",
    "\n",
    "# 创建第二个附表并添加另一个二维数组\n",
    "table_2 = fits.BinTableHDU.from_columns([fits.Column(name='col3', array=arr_2d_1,format='%dD'%arr_2d_1.size)])\n",
    "table_2.name = 'table2'\n",
    "\n",
    "# 将主表和附表添加到 HDUList 中\n",
    "hdulist = fits.HDUList([primary_hdu, table_1, table_2])\n",
    "\n",
    "# 将 HDUList 对象写入文件\n",
    "hdulist.writeto('example.fits', overwrite=True)"
   ]
  },
  {
   "cell_type": "code",
   "execution_count": 4,
   "metadata": {},
   "outputs": [
    {
     "name": "stdout",
     "output_type": "stream",
     "text": [
      "(128, 1236)\n"
     ]
    }
   ],
   "source": [
    " \n",
    "from astropy.io import fits\n",
    "import numpy as np\n",
    "import io\n",
    "\n",
    "hdu = fits.open(r'/home/gytide/dsrtprod/data/2023/03/project_image/PRO20230301.fits')\n",
    "data = hdu[0].data #float32\n",
    "timearr = hdu[1].data['TIME'] #int32\n",
    "\n",
    "print(data.shape[0])\n",
    "\n"
   ]
  },
  {
   "cell_type": "code",
   "execution_count": null,
   "metadata": {},
   "outputs": [],
   "source": [
    "import numpy as np\n",
    "\n",
    "np.arange(0,128,1)"
   ]
  },
  {
   "cell_type": "code",
   "execution_count": 9,
   "metadata": {},
   "outputs": [
    {
     "data": {
      "text/plain": [
       "(128, 128)"
      ]
     },
     "execution_count": 9,
     "metadata": {},
     "output_type": "execute_result"
    }
   ],
   "source": [
    "from astropy.io import fits\n",
    "\n",
    "path = r'/home/gytide/dsrtprod/data/2023/03/image_data/ODACH_DSRT02_SRIM_L2_150.9MHz_202303010955.fits'\n",
    "\n",
    "hdu = fits.open(path)\n",
    "\n",
    "header = hdu[0].header\n",
    "\n",
    "data = hdu[1].data['STOKESI'][0]\n",
    "\n",
    "data.shape"
   ]
  }
 ],
 "metadata": {
  "kernelspec": {
   "display_name": "dsrtdev",
   "language": "python",
   "name": "python3"
  },
  "language_info": {
   "codemirror_mode": {
    "name": "ipython",
    "version": 3
   },
   "file_extension": ".py",
   "mimetype": "text/x-python",
   "name": "python",
   "nbconvert_exporter": "python",
   "pygments_lexer": "ipython3",
   "version": "3.10.8 (main, Nov 24 2022, 14:13:03) [GCC 11.2.0]"
  },
  "orig_nbformat": 4,
  "vscode": {
   "interpreter": {
    "hash": "8e2b0de3711fb5d9ea933a1053ee4d25f6ca69e5f1f07c345aab1b061cd16890"
   }
  }
 },
 "nbformat": 4,
 "nbformat_minor": 2
}

{
 "cells": [
  {
   "cell_type": "code",
   "execution_count": null,
   "metadata": {},
   "outputs": [],
   "source": [
    "# 更改采样间隔，减小频谱预览文件的大小\n",
    "import numpy as np\n",
    "from datetime import datetime , timedelta \n",
    "from astropy.io import fits\n",
    "\n",
    "path = r'/home/gytide/dsrtprod/data/2023/03/spedata/ODACH_DSRT05_SRSP_L1_II_20220417000505.fits'\n",
    "hdu = fits.open(path)\n",
    "\n",
    "data = hdu[0].data\n",
    "\n",
    "\n",
    "data = data[0::10,0::10]\n",
    "\n",
    "print(data.shape)\n",
    "\n",
    "time = hdu[1].data['TIME']\n",
    "time = time[0:1,0::10]\n",
    "\n",
    "print(time.shape)\n",
    "\n",
    "fre = hdu[1].data['FREQUENCY']\n",
    "fre = fre[0:1,0::10]\n",
    "print(fre.shape)\n",
    "\n",
    "\n",
    "min = data.min()\n",
    "\n",
    "max = data.max()\n",
    "\n",
    "data = data - min\n",
    "\n",
    "data = data*255/(max-min)\n",
    "\n",
    "print(data.astype(np.int8))\n",
    "\n",
    "# 从 float64 转换为 int8\n",
    "data = data.astype(np.int8)\n",
    "\n",
    "\n",
    "\n",
    "\n"
   ]
  },
  {
   "cell_type": "code",
   "execution_count": null,
   "metadata": {},
   "outputs": [],
   "source": [
    "# 更改采样间隔，减小频谱预览文件的大小\n",
    "import numpy as np\n",
    "from datetime import datetime , timedelta \n",
    "from astropy.io import fits\n",
    "\n",
    "path = r'/home/gytide/dsrtprod/data/2023/03/spedata/ODACH_DSRT05_SRSP_L1_II_20220417000505.fits'\n",
    "hdu = fits.open(path)\n",
    "\n",
    "data = hdu[0].data\n",
    "\n",
    "\n",
    "data = data[0::10,0::10]\n",
    "\n",
    "print(data.shape)\n",
    "\n",
    "time = hdu[1].data['TIME']\n",
    "time = time[0:1,0::10]\n",
    "\n",
    "print(time.shape)\n",
    "\n",
    "fre = hdu[1].data['FREQUENCY']\n",
    "fre = fre[0:1,0::10]\n",
    "print(fre.shape)\n",
    "\n",
    "hdu.close()\n",
    "\n",
    "# min = data.min()\n",
    "\n",
    "# max = data.max()\n",
    "\n",
    "# data = data - min\n",
    "\n",
    "# data = data*255/(max-min)\n",
    "\n",
    "# 从 float64 转换为 int8\n",
    "data = data.astype(np.int8)\n",
    "\n",
    "\n",
    "\n",
    "# 创建主表并添加数组\n",
    "primary_hdu = fits.PrimaryHDU(data)\n",
    "\n",
    "# 创建附表并添加两个二维数组\n",
    "table_1 = fits.BinTableHDU.from_columns([fits.Column(name='TIME', array=time ,format='%dD'% time.size ),\n",
    "                                          fits.Column(name='FREQUENCY', array=fre ,format='%dD'%fre.size)])\n",
    "table_1.name = 'ext1'\n",
    "\n",
    "# 将主表和附表添加到 HDUList 中\n",
    "hdulist = fits.HDUList([primary_hdu, table_1])\n",
    "\n",
    "# 将 HDUList 对象写入文件\n",
    "hdulist.writeto('example.fits', overwrite=True)\n",
    "\n",
    "\n"
   ]
  },
  {
   "cell_type": "code",
   "execution_count": 10,
   "metadata": {},
   "outputs": [],
   "source": [
    "from astropy.io import fits\n",
    "import numpy as np\n",
    "\n",
    "# 生成一个三维数组\n",
    "arr_3d = np.zeros((3, 4, 5))\n",
    "\n",
    "# 生成两个二维数组\n",
    "arr_2d_1 = np.ones((2, 3))\n",
    "arr_2d_2 = np.full((3, 4), 2)\n",
    "\n",
    "# 创建主表并添加三维数组\n",
    "primary_hdu = fits.PrimaryHDU(arr_3d)\n",
    "\n",
    "# 创建附表并添加两个二维数组\n",
    "table_1 = fits.BinTableHDU.from_columns([fits.Column(name='col1', array=arr_2d_1 ,format='%dD'% arr_2d_1.size ),\n",
    "                                          fits.Column(name='col2', array=arr_2d_2 ,format='%dD'%arr_2d_2.size)])\n",
    "table_1.name = 'table1'\n",
    "\n",
    "# 创建第二个附表并添加另一个二维数组\n",
    "table_2 = fits.BinTableHDU.from_columns([fits.Column(name='col3', array=arr_2d_1,format='%dD'%arr_2d_1.size)])\n",
    "table_2.name = 'table2'\n",
    "\n",
    "# 将主表和附表添加到 HDUList 中\n",
    "hdulist = fits.HDUList([primary_hdu, table_1, table_2])\n",
    "\n",
    "# 将 HDUList 对象写入文件\n",
    "hdulist.writeto('example.fits', overwrite=True)"
   ]
  },
  {
   "cell_type": "code",
   "execution_count": 4,
   "metadata": {},
   "outputs": [
    {
     "name": "stdout",
     "output_type": "stream",
     "text": [
      "(128, 1236)\n"
     ]
    }
   ],
   "source": [
    " \n",
    "from astropy.io import fits\n",
    "import numpy as np\n",
    "import io\n",
    "\n",
    "hdu = fits.open(r'/home/gytide/dsrtprod/data/2023/03/project_image/PRO20230301.fits')\n",
    "data = hdu[0].data #float32\n",
    "timearr = hdu[1].data['TIME'] #int32\n",
    "\n",
    "print(data.shape[0])\n",
    "\n"
   ]
  },
  {
   "cell_type": "code",
   "execution_count": 1,
   "metadata": {},
   "outputs": [
    {
     "data": {
      "text/plain": [
       "array([  0,   1,   2,   3,   4,   5,   6,   7,   8,   9,  10,  11,  12,\n",
       "        13,  14,  15,  16,  17,  18,  19,  20,  21,  22,  23,  24,  25,\n",
       "        26,  27,  28,  29,  30,  31,  32,  33,  34,  35,  36,  37,  38,\n",
       "        39,  40,  41,  42,  43,  44,  45,  46,  47,  48,  49,  50,  51,\n",
       "        52,  53,  54,  55,  56,  57,  58,  59,  60,  61,  62,  63,  64,\n",
       "        65,  66,  67,  68,  69,  70,  71,  72,  73,  74,  75,  76,  77,\n",
       "        78,  79,  80,  81,  82,  83,  84,  85,  86,  87,  88,  89,  90,\n",
       "        91,  92,  93,  94,  95,  96,  97,  98,  99, 100, 101, 102, 103,\n",
       "       104, 105, 106, 107, 108, 109, 110, 111, 112, 113, 114, 115, 116,\n",
       "       117, 118, 119, 120, 121, 122, 123, 124, 125, 126, 127])"
      ]
     },
     "execution_count": 1,
     "metadata": {},
     "output_type": "execute_result"
    }
   ],
   "source": [
    "import numpy as np\n",
    "\n",
    "np.arange(0,128,1)"
   ]
  }
 ],
 "metadata": {
  "kernelspec": {
   "display_name": "dsrtdev",
   "language": "python",
   "name": "python3"
  },
  "language_info": {
   "codemirror_mode": {
    "name": "ipython",
    "version": 3
   },
   "file_extension": ".py",
   "mimetype": "text/x-python",
   "name": "python",
   "nbconvert_exporter": "python",
   "pygments_lexer": "ipython3",
   "version": "3.10.8"
  },
  "orig_nbformat": 4,
  "vscode": {
   "interpreter": {
    "hash": "8e2b0de3711fb5d9ea933a1053ee4d25f6ca69e5f1f07c345aab1b061cd16890"
   }
  }
 },
 "nbformat": 4,
 "nbformat_minor": 2
}

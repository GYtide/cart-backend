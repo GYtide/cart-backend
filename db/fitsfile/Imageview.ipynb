{
 "cells": [
  {
   "cell_type": "code",
   "execution_count": 2,
   "metadata": {},
   "outputs": [
    {
     "name": "stdout",
     "output_type": "stream",
     "text": [
      "XTENSION= 'BINTABLE'           / binary table extension                         BITPIX  =                    8 / array data type                                NAXIS   =                    2 / number of array dimensions                     NAXIS1  =                17304 / length of dimension 1                          NAXIS2  =                  442 / length of dimension 2                          PCOUNT  =                    0 / number of group parameters                     GCOUNT  =                    1 / number of groups                               TFIELDS =                    6 / number of table fields                         TTYPE1  = 'time    '                                                            TFORM1  = '1J      '                                                            TTYPE2  = 'freq    '                                                            TFORM2  = '1E      '                                                            TTYPE3  = 'StokesI '                                                            TFORM3  = '2116E   '                                                            TDIM3   = '(46,46) '                                                            TTYPE4  = 'StokesV '                                                            TFORM4  = '2116E   '                                                            TDIM4   = '(46,46) '                                                            TTYPE5  = 'sunx    '                                                            TFORM5  = '46E     '                                                            TDIM5   = '(46, )  '                                                            TTYPE6  = 'suny    '                                                            TFORM6  = '46E     '                                                            TDIM6   = '(46, )  '                                                            DATE-OBS= '2022-04-17T03:26:00.291600' / observation time                       RSUN_OBS=    955.7420910987998 / solar radius in arcsec                         TIMEUNIT= 'ms      '           / counted by millisecond                         END                                                                                                                                                                                                                                                                                                                                                                                                                                                                                                                                                                                                                                                                                                                                             \n",
      "['time', 'freq', 'StokesI', 'StokesV', 'sunx', 'suny']\n",
      "[-2829.9077  -2701.268   -2572.6294  -2443.9917  -2315.355   -2186.7192\n",
      " -2058.0842  -1929.4502  -1800.8168  -1672.1841  -1543.552   -1414.9205\n",
      " -1286.2897  -1157.6593  -1029.0293   -900.3998   -771.7706   -643.1417\n",
      "  -514.51306  -385.88464  -257.25635  -128.62814     0.        128.62814\n",
      "   257.25635   385.88464   514.51306   643.1417    771.7706    900.3998\n",
      "  1029.0293   1157.6593   1286.2897   1414.9205   1543.552    1672.1841\n",
      "  1800.8168   1929.4502   2058.0842   2186.7192   2315.355    2443.9917\n",
      "  2572.6294   2701.268    2829.9077   2958.5486 ]\n"
     ]
    }
   ],
   "source": [
    "# 查看dsrt单频点数据\n",
    "from astropy.io import fits\n",
    "\n",
    "path = r'/home/gytide/dsrtprod/data/2023/03/dsrtimg/ODACH_CART02_SRIM_L2_233MHz_20220417032600_V01.10.fits'\n",
    "\n",
    "hdu = fits.open(path)\n",
    "\n",
    "header = hdu[0].header\n",
    "header1 = hdu[1].header\n",
    "print(header1)\n",
    "\n",
    "data = hdu[1].data\n",
    "\n",
    "print(hdu[1].columns.names)\n",
    "\n",
    "print(data[0][5])\n",
    "\n",
    "hdu.close()\n",
    "  \n"
   ]
  },
  {
   "cell_type": "code",
   "execution_count": 4,
   "id": "46c00772",
   "metadata": {},
   "outputs": [
    {
     "name": "stdout",
     "output_type": "stream",
     "text": [
      "Filename: /home/gytide/dsrtprod/data/2023/03/dsrtimg/ODACH_CART02_SRIM_L2_233MHz_20220417032600_V01.10.fits\n",
      "No.    Name      Ver    Type      Cards   Dimensions   Format\n",
      "  0  PRIMARY       1 PrimaryHDU      26   ()      \n",
      "  1                1 BinTableHDU     27   442R x 6C   [1J, 1E, 2116E, 2116E, 46E, 46E]   \n",
      "None\n",
      "SIMPLE  =                    T / conforms to FITS standard                      BITPIX  =                    8 / array data type                                NAXIS   =                    0 / number of array dimensions                     EXTEND  =                    T                                                  DATE_OBS= '2022-04-17T03:26:00.291600' / observation time                       RSUN_OBS=    955.7420910987998 / [arcsec] Apparent radius of the Sun seen by DSRR_SUN   =    7.429604441065175 / Radius of the Sun in pixels                    CROTA2  =   -25.35583321032033 / [deg] Angle of solar pole with image           TIMEBEG = '2022-04-17T03:26:00.291600' / begin of time                          TIMEEND = '2022-04-17T03:39:58.916533' / begin of time                          FREQBEG =                233.0 / [MHz]begin of frequency                        FREQEND =                233.0 / [MHz]begin of frequency                        CALI_TM = '2022Y6M7D8H30M'     / Calibrated time                                IF_CLEAN= 'CLEANED '           / Cleaned image or dirty image                   ACCU_TM =                 1606 / accumulated time (ms)                          DATA_LEV= 'L2      '           / data level                                     TIMESYS = 'UTC     '                                                            OBS_MODE= 'NormalMode'         / operation mode of the device                   QUAL_FLG= 'TBD     '           / data quality control information               OBSERVER= 'DSRT    '           / location of observation                        DEV_STAT= 'N       '           / state of the device                            BUNIT   = 'K       '           / K or SFU,quantities and units BrightTemp       CAL_TEMP= 'T       '           / Boolean,  calibrated by temperature            OBJECT  = 'SUN     '           / Sun or Calibrator                              DEV_LAT =               29.011 / observatory latitude in degree                 DEV_LON =              100.246 / observatory longitude in degree                END                                                                                                                                                                                                                                                                                                                                                                                                                                                                                                                                                                                                                                                                                                                                                                                                                             \n",
      "\n",
      "\n",
      "===============\n",
      "\n",
      "\n",
      "XTENSION= 'BINTABLE'           / binary table extension                         BITPIX  =                    8 / array data type                                NAXIS   =                    2 / number of array dimensions                     NAXIS1  =                17304 / length of dimension 1                          NAXIS2  =                  442 / length of dimension 2                          PCOUNT  =                    0 / number of group parameters                     GCOUNT  =                    1 / number of groups                               TFIELDS =                    6 / number of table fields                         TTYPE1  = 'time    '                                                            TFORM1  = '1J      '                                                            TTYPE2  = 'freq    '                                                            TFORM2  = '1E      '                                                            TTYPE3  = 'StokesI '                                                            TFORM3  = '2116E   '                                                            TDIM3   = '(46,46) '                                                            TTYPE4  = 'StokesV '                                                            TFORM4  = '2116E   '                                                            TDIM4   = '(46,46) '                                                            TTYPE5  = 'sunx    '                                                            TFORM5  = '46E     '                                                            TDIM5   = '(46, )  '                                                            TTYPE6  = 'suny    '                                                            TFORM6  = '46E     '                                                            TDIM6   = '(46, )  '                                                            DATE-OBS= '2022-04-17T03:26:00.291600' / observation time                       RSUN_OBS=    955.7420910987998 / solar radius in arcsec                         TIMEUNIT= 'ms      '           / counted by millisecond                         END                                                                                                                                                                                                                                                                                                                                                                                                                                                                                                                                                                                                                                                                                                                                             \n"
     ]
    }
   ],
   "source": [
    "# 测试取出头信息\n",
    "\n",
    "from astropy.io import fits\n",
    "\n",
    "path = r'/home/gytide/dsrtprod/data/2023/03/dsrtimg/ODACH_CART02_SRIM_L2_233MHz_20220417032600_V01.10.fits'\n",
    "\n",
    "hdu = fits.open(path)\n",
    "header = fits.getheader(path,ext=0)\n",
    "header1 = fits.getheader(path,ext=1)\n",
    "print(hdu.info())\n",
    "print(header)\n",
    "print(\"\\n\\n===============\\n\\n\")\n",
    "print(header1)"
   ]
  },
  {
   "cell_type": "code",
   "execution_count": 2,
   "id": "c91ca2ae",
   "metadata": {},
   "outputs": [
    {
     "name": "stdout",
     "output_type": "stream",
     "text": [
      "Filename: /home/gytide/dsrtprod/data/2023/03/dsrtimg/ODACH_CART02_SRIM_L2_STP_20220417032600_V01.10.fits\n",
      "No.    Name      Ver    Type      Cards   Dimensions   Format\n",
      "  0  PRIMARY       1 PrimaryHDU      26   ()      \n",
      "  1                1 BinTableHDU     27   442R x 6C   ['1J', '1E', '2116E', '2116E', '46E', '46E']   \n",
      "  2                1 BinTableHDU     27   601R x 6C   [1J, 1E, 2704E, 2704E, 52E, 52E]   \n",
      "None\n",
      "SIMPLE  =                    T / conforms to FITS standard                      BITPIX  =                    8 / array data type                                NAXIS   =                    0 / number of array dimensions                     EXTEND  =                    T                                                  DATE_OBS= '2022-04-17T03:26:00.291600' / observation time                       RSUN_OBS=    955.7420910987998 / [arcsec] Apparent radius of the Sun seen by DSRR_SUN   =    7.429604441065175 / Radius of the Sun in pixels                    CROTA2  =   -25.35583321032033 / [deg] Angle of solar pole with image           TIMEBEG = '2022-04-17T03:26:00.291600' / begin of time                          TIMEEND = '2022-04-17T03:39:58.916533' / begin of time                          FREQBEG =                233.0 / [MHz]begin of frequency                        FREQEND =                233.0 / [MHz]begin of frequency                        CALI_TM = '2022Y6M7D8H30M'     / Calibrated time                                IF_CLEAN= 'CLEANED '           / Cleaned image or dirty image                   ACCU_TM =                 1606 / accumulated time (ms)                          DATA_LEV= 'L2      '           / data level                                     TIMESYS = 'UTC     '                                                            OBS_MODE= 'NormalMode'         / operation mode of the device                   QUAL_FLG= 'TBD     '           / data quality control information               OBSERVER= 'DSRT    '           / location of observation                        DEV_STAT= 'N       '           / state of the device                            BUNIT   = 'K       '           / K or SFU,quantities and units BrightTemp       CAL_TEMP= 'T       '           / Boolean,  calibrated by temperature            OBJECT  = 'SUN     '           / Sun or Calibrator                              DEV_LAT =               29.011 / observatory latitude in degree                 DEV_LON =              100.246 / observatory longitude in degree                END                                                                                                                                                                                                                                                                                                                                                                                                                                                                                                                                                                                                                                                                                                                                                                                                                             \n",
      "\n",
      "\n",
      "===============\n",
      "\n",
      "\n",
      "XTENSION= 'BINTABLE'           / binary table extension                         BITPIX  =                    8 / array data type                                NAXIS   =                    2 / number of array dimensions                     NAXIS1  =                17304 / length of dimension 1                          NAXIS2  =                  442 / length of dimension 2                          PCOUNT  =                    0 / number of group parameters                     GCOUNT  =                    1 / number of groups                               TFIELDS =                    6 / number of table fields                         TTYPE1  = 'time    '                                                            TFORM1  = '1J      '                                                            TTYPE2  = 'freq    '                                                            TFORM2  = '1E      '                                                            TTYPE3  = 'StokesI '                                                            TFORM3  = '2116E   '                                                            TDIM3   = '(46,46) '                                                            TTYPE4  = 'StokesV '                                                            TFORM4  = '2116E   '                                                            TDIM4   = '(46,46) '                                                            TTYPE5  = 'sunx    '                                                            TFORM5  = '46E     '                                                            TDIM5   = '(46, )  '                                                            TTYPE6  = 'suny    '                                                            TFORM6  = '46E     '                                                            TDIM6   = '(46, )  '                                                            DATE-OBS= '2022-04-17T03:26:00.291600' / observation time                       RSUN_OBS=    955.7420910987998 / solar radius in arcsec                         TIMEUNIT= 'ms      '           / counted by millisecond                         END                                                                                                                                                                                                                                                                                                                                                                                                                                                                                                                                                                                                                                                                                                                                             \n",
      "\n",
      "\n",
      "===============\n",
      "\n",
      "\n",
      "XTENSION= 'BINTABLE'           / binary table extension                         BITPIX  =                    8 / array data type                                NAXIS   =                    2 / number of array dimensions                     NAXIS1  =                22056 / length of dimension 1                          NAXIS2  =                  601 / length of dimension 2                          PCOUNT  =                    0 / number of group parameters                     GCOUNT  =                    1 / number of groups                               TFIELDS =                    6 / number of table fields                         TTYPE1  = 'time    '                                                            TFORM1  = '1J      '                                                            TTYPE2  = 'freq    '                                                            TFORM2  = '1E      '                                                            TTYPE3  = 'StokesH '                                                            TFORM3  = '2704E   '                                                            TDIM3   = '(52,52) '                                                            TTYPE4  = 'StokesV '                                                            TFORM4  = '2704E   '                                                            TDIM4   = '(52,52) '                                                            TTYPE5  = 'sunx    '                                                            TFORM5  = '52E     '                                                            TDIM5   = '(52, )  '                                                            TTYPE6  = 'suny    '                                                            TFORM6  = '52E     '                                                            TDIM6   = '(52, )  '                                                            DATE-OBS= '2022-04-17T03:20:43.397407' / observation time                       RSUN_OBS=    955.7430694195256 / solar radius in arcsec                         TIMEUNIT= 'ms      '           / counted by millisecond                         END                                                                                                                                                                                                                                                                                                                                                                                                                                                                                                                                                                                                                                                                                                                                             \n",
      "(442,)\n"
     ]
    }
   ],
   "source": [
    "# 测试取出头信息\n",
    "\n",
    "from astropy.io import fits\n",
    "\n",
    "path = r'/home/gytide/dsrtprod/data/2023/03/dsrtimg/ODACH_CART02_SRIM_L2_STP_20220417032600_V01.10.fits'\n",
    "\n",
    "hdu = fits.open(path)\n",
    "header = fits.getheader(path,ext=0) \n",
    "header1 = fits.getheader(path,ext=1)\n",
    "header2 = fits.getheader(path,ext=2)\n",
    "\n",
    "data = hdu[1].data['freq']\n",
    "print(hdu.info())\n",
    "print(header)\n",
    "print(\"\\n\\n===============\\n\\n\")\n",
    "print(header1)\n",
    "print(\"\\n\\n===============\\n\\n\") \n",
    "print(header2)\n",
    "print(data.shape)"
   ]
  },
  {
   "cell_type": "code",
   "execution_count": 7,
   "id": "9f0586d5",
   "metadata": {},
   "outputs": [
    {
     "name": "stdout",
     "output_type": "stream",
     "text": [
      "Filename: /home/gytide/dsrtprod/data/2023/03/dsrtspe/ODACH_CART05_SRSP_L1_STP_20220417061006_V01.01.fits\n",
      "No.    Name      Ver    Type      Cards   Dimensions   Format\n",
      "  0  PRIMARY       1 PrimaryHDU      36   (160, 2127, 2)   float32   \n",
      "  1                1 BinTableHDU     14   1R x 2C   [160D, 2127D]   \n",
      "None\n",
      "SIMPLE  =                    T / conforms to FITS standard                      BITPIX  =                  -32 / array data type                                NAXIS   =                    3 / number of array dimensions                     NAXIS1  =                  160                                                  NAXIS2  =                 2127                                                  NAXIS3  =                    2                                                  EXTEND  =                    T                                                  DATE-OBS= '2022-04-17T06:10:06.463279' / observation time                       DATE_BEG= '2022-04-17T06:10:06.463279' / begin of time                          DATE_END= '2022-04-17T06:15:05.283659' / end of time                            ORIGIN  = 'Chinese Meridian Project for Space Environment Monitoring'           TELESCOP= 'CART    '           / Circular Array Solar Radio Telescope           OBJECT  = 'SUN     '           / object description                             DEV_LON =              100.246 / [deg] east longitude                           DEV_LAT =               29.011 / [deg] north latitude                           DEV_ALT =               3750.0 / [m] altitude, height above sea level           PRODUCER= 'NSSC CAS, ODACH'    / Daocheng by National Space Science Center      CONTACT = 'Xinhua Zhao (xhzhao@spaceweather.ac.cn)'                             CONTENT = 'Solar Radio Spectrum'                                                DATA_LEV= 'L1      '                                                            TIMESYS = 'UTC     '                                                            CALI_TM = '2023-03-09T12:45:57.924' / calibrated time                           OBS_MODE= 'NormalMode'         / the mode of operation when acquiring data      OP_PARAM= 'ADC: 125Msps, FFT length: 16384, Average: 39'                        DEV_SPEC= 'Sensitivity=1SFU; DynamicRange>=60dB' / device specifications        DEV_STAT= 'N       '           / N/A state of the device                        QUAL_FLG= 'TBD     '           / data quality control information               BUNIT   = 'SolarFluxUnit (SFU)' / quantities and units                          POLARIZA= 'I/U     '           / polarization types                             FREQ    = '151~449 MHz'        / frequency range of observation                 FREQBEG =                151.0 / [MHz] begin of the frequency                   FREQRESO=       0.152587890625 / [MHz] frequency resolution                     ACCU_TM =    1.606563000001188 / [ms] accumulated time                          CAL_TEMP= 'T       '           / data was calibrated by temperature             VERSION = 'V01.10  '           / VersionNumber                                  COMMENT After FFT transmformation, stored as 3-dimesion data array.             END                                                                                                                                                                                                                                                                                                                                                                                                                                                                                                                                                                                                                                                                                                                                                                                                                                                                                                                                                                                                                                                                                                                                                                                                                                                                                                                                                                                                                                                                                                                                                                                                                                                                                                                                                                                                                                                                                                                                                                                                                                                                                                                                                                                                                                                                                                                                                                                                                                                                                                                                                                                                                                                                                                                                                                                                                                                                                                                                                                                             \n",
      "\n",
      "\n",
      "===============\n",
      "\n",
      "\n",
      "XTENSION= 'BINTABLE'           / binary table extension                         BITPIX  =                    8 / array data type                                NAXIS   =                    2 / number of array dimensions                     NAXIS1  =                18296 / length of dimension 1                          NAXIS2  =                    1 / length of dimension 2                          PCOUNT  =                    0 / number of group parameters                     GCOUNT  =                    1 / number of groups                               TFIELDS =                    2 / number of table fields                         TTYPE1  = 'time    '                                                            TFORM1  = '160D    '                                                            TTYPE2  = 'frequency'                                                           TFORM2  = '2127D   '                                                            TIME    = 'shift seconds of the day'                                            FREQ    = 'observation frequency MHz'                                           END                                                                                                                                                                                                                                                                                                                                                                                                                                                                                                                                                                                                                                                                                                                                                                                                                                                                                                                                                                                                                                                                                                                                                                                                                                                                                                                                                                                                                                                                                                                                                                                                                                                                                                                                                                                                                             \n",
      "['time', 'frequency']\n",
      "(array([22206.463279, 22208.069842, 22209.6764  , 22211.282963,\n",
      "       22212.889522, 22214.496084, 22216.102647, 22217.709206,\n",
      "       22219.315769, 22220.922327, 22222.52889 , 22224.135453,\n",
      "       22225.742012, 22227.348574, 22228.955133, 22230.561696,\n",
      "       22232.168259, 22233.774817, 22235.38138 , 22236.987939,\n",
      "       22238.594502, 22240.201065, 22241.807623, 22243.414186,\n",
      "       22245.020749, 22246.627307, 22248.23387 , 22249.840429,\n",
      "       22251.446992, 22253.053555, 22254.660113, 22256.266676,\n",
      "       22257.873235, 22259.479798, 22261.08636 , 22262.692919,\n",
      "       22264.299482, 22265.90604 , 22267.512603, 22269.119166,\n",
      "       22270.725725, 22272.332288, 22273.938846, 22275.545409,\n",
      "       22277.151972, 22278.75853 , 22280.365093, 22296.430705,\n",
      "       22298.037268, 22299.643826, 22301.250389, 22302.856948,\n",
      "       22304.463511, 22306.070073, 22307.676632, 22309.283195,\n",
      "       22310.889753, 22312.496316, 22314.102879, 22315.709438,\n",
      "       22317.316001, 22318.922559, 22320.529122, 22322.135685,\n",
      "       22323.742244, 22325.348806, 22326.955365, 22328.561928,\n",
      "       22330.168491, 22331.775049, 22333.381612, 22334.988171,\n",
      "       22336.594734, 22338.201296, 22339.807855, 22341.414418,\n",
      "       22343.020981, 22344.627539, 22346.234102, 22347.840661,\n",
      "       22349.447224, 22351.053787, 22352.660345, 22354.266908,\n",
      "       22355.873467, 22357.480029, 22359.086592, 22360.693151,\n",
      "       22362.299714, 22363.906272, 22365.512835, 22367.119398,\n",
      "       22368.725957, 22370.332519, 22371.939078, 22373.545641,\n",
      "       22375.152204, 22391.217815, 22392.824374, 22394.430937,\n",
      "       22396.0375  , 22397.644058, 22399.250621, 22400.85718 ,\n",
      "       22402.463742, 22404.070305, 22405.676864, 22407.283427,\n",
      "       22408.889985, 22410.496548, 22412.103111, 22413.70967 ,\n",
      "       22415.316233, 22416.922791, 22418.529354, 22420.135917,\n",
      "       22421.742475, 22423.349038, 22424.955597, 22426.56216 ,\n",
      "       22428.168723, 22429.775281, 22431.381844, 22432.988403,\n",
      "       22434.594965, 22436.201528, 22437.808087, 22439.41465 ,\n",
      "       22441.021213, 22442.627771, 22444.234334, 22445.840893,\n",
      "       22447.447456, 22449.054018, 22450.660577, 22452.26714 ,\n",
      "       22453.873698, 22455.480261, 22457.086824, 22458.693383,\n",
      "       22460.299946, 22461.906504, 22463.513067, 22465.11963 ,\n",
      "       22466.726188, 22468.332751, 22469.93931 , 22486.004926,\n",
      "       22487.611484, 22489.218047, 22490.824606, 22492.431169,\n",
      "       22494.037732, 22495.64429 , 22497.250853, 22498.857412,\n",
      "       22500.463974, 22502.070537, 22503.677096, 22505.283659]), array([140.00323486, 140.15582275, 140.30841064, ..., 464.09564209,\n",
      "       464.24822998, 464.40081787]))\n",
      ">f8\n",
      ">f8\n"
     ]
    }
   ],
   "source": [
    "# 查看频谱数据文件\n",
    "\n",
    "# 测试取出头信息\n",
    "\n",
    "from astropy.io import fits\n",
    "\n",
    "path = r'/home/gytide/dsrtprod/data/2023/03/dsrtspe/ODACH_CART05_SRSP_L1_STP_20220417061006_V01.01.fits'\n",
    "\n",
    "hdu = fits.open(path)\n",
    "header = fits.getheader(path,ext=0)\n",
    "header1 = fits.getheader(path,ext=1)\n",
    "print(hdu.info())\n",
    "print(header)\n",
    "print(\"\\n\\n===============\\n\\n\")\n",
    "print(header1)\n",
    "print(hdu[1].columns.names)\n",
    "print(hdu[1].data[0])\n",
    "print(hdu[1].data[0][0].dtype)\n",
    "print(hdu[1].data[0][1].dtype)"
   ]
  }
 ],
 "metadata": {
  "kernelspec": {
   "display_name": "dsrt",
   "language": "python",
   "name": "python3"
  },
  "language_info": {
   "codemirror_mode": {
    "name": "ipython",
    "version": 3
   },
   "file_extension": ".py",
   "mimetype": "text/x-python",
   "name": "python",
   "nbconvert_exporter": "python",
   "pygments_lexer": "ipython3",
   "version": "3.8.13"
  },
  "vscode": {
   "interpreter": {
    "hash": "4ed4c61f50e6574cb82be41c5e111fe70a31935b1fba574891cfb4390196f84b"
   }
  }
 },
 "nbformat": 4,
 "nbformat_minor": 5
}

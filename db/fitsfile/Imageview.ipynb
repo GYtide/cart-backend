{
 "cells": [
  {
   "cell_type": "code",
   "execution_count": 9,
   "metadata": {},
   "outputs": [
    {
     "name": "stdout",
     "output_type": "stream",
     "text": [
      "XTENSION= 'BINTABLE'           / binary table extension                         BITPIX  =                    8 / array data type                                NAXIS   =                    2 / number of array dimensions                     NAXIS1  =                17304 / length of dimension 1                          NAXIS2  =                  442 / length of dimension 2                          PCOUNT  =                    0 / number of group parameters                     GCOUNT  =                    1 / number of groups                               TFIELDS =                    6 / number of table fields                         TTYPE1  = 'time    '                                                            TFORM1  = '1J      '                                                            TTYPE2  = 'freq    '                                                            TFORM2  = '1E      '                                                            TTYPE3  = 'StokesI '                                                            TFORM3  = '2116E   '                                                            TDIM3   = '(46,46) '                                                            TTYPE4  = 'StokesV '                                                            TFORM4  = '2116E   '                                                            TDIM4   = '(46,46) '                                                            TTYPE5  = 'sunx    '                                                            TFORM5  = '46E     '                                                            TDIM5   = '(46, )  '                                                            TTYPE6  = 'suny    '                                                            TFORM6  = '46E     '                                                            TDIM6   = '(46, )  '                                                            DATE-OBS= '2022-04-17T03:26:00.291600' / observation time                       RSUN_OBS=    955.7420910987998 / solar radius in arcsec                         TIMEUNIT= 'ms      '           / counted by millisecond                         END                                                                                                                                                                                                                                                                                                                                                                                                                                                                                                                                                                                                                                                                                                                                             \n",
      "['time', 'freq', 'StokesI', 'StokesV', 'sunx', 'suny']\n",
      "[-2829.9077  -2701.268   -2572.6294  -2443.9917  -2315.355   -2186.7192\n",
      " -2058.0842  -1929.4502  -1800.8168  -1672.1841  -1543.552   -1414.9205\n",
      " -1286.2897  -1157.6593  -1029.0293   -900.3998   -771.7706   -643.1417\n",
      "  -514.51306  -385.88464  -257.25635  -128.62814     0.        128.62814\n",
      "   257.25635   385.88464   514.51306   643.1417    771.7706    900.3998\n",
      "  1029.0293   1157.6593   1286.2897   1414.9205   1543.552    1672.1841\n",
      "  1800.8168   1929.4502   2058.0842   2186.7192   2315.355    2443.9917\n",
      "  2572.6294   2701.268    2829.9077   2958.5486 ]\n"
     ]
    }
   ],
   "source": [
    "# 查看dsrt单频点数据\n",
    "from astropy.io import fits\n",
    "\n",
    "path = r'/home/gytide/dsrtprod/data/2023/03/dsrtimg/ODACH_CART02_SRIM_L2_233MHz_20220417032600_V01.10.fits'\n",
    "\n",
    "hdu = fits.open(path)\n",
    "\n",
    "header = hdu[0].header\n",
    "header1 = hdu[1].header\n",
    "print(header1)\n",
    "\n",
    "data = hdu[1].data\n",
    "\n",
    "print(hdu[1].columns.names)\n",
    "\n",
    "print(data['sunx'][0])\n",
    "\n",
    "hdu.close()\n",
    "\n"
   ]
  },
  {
   "cell_type": "code",
   "execution_count": 4,
   "id": "46c00772",
   "metadata": {},
   "outputs": [
    {
     "name": "stdout",
     "output_type": "stream",
     "text": [
      "Filename: /home/gytide/dsrtprod/data/2023/03/dsrtimg/ODACH_CART02_SRIM_L2_233MHz_20220417032600_V01.10.fits\n",
      "No.    Name      Ver    Type      Cards   Dimensions   Format\n",
      "  0  PRIMARY       1 PrimaryHDU      26   ()      \n",
      "  1                1 BinTableHDU     27   442R x 6C   [1J, 1E, 2116E, 2116E, 46E, 46E]   \n",
      "None\n",
      "SIMPLE  =                    T / conforms to FITS standard                      BITPIX  =                    8 / array data type                                NAXIS   =                    0 / number of array dimensions                     EXTEND  =                    T                                                  DATE_OBS= '2022-04-17T03:26:00.291600' / observation time                       RSUN_OBS=    955.7420910987998 / [arcsec] Apparent radius of the Sun seen by DSRR_SUN   =    7.429604441065175 / Radius of the Sun in pixels                    CROTA2  =   -25.35583321032033 / [deg] Angle of solar pole with image           TIMEBEG = '2022-04-17T03:26:00.291600' / begin of time                          TIMEEND = '2022-04-17T03:39:58.916533' / begin of time                          FREQBEG =                233.0 / [MHz]begin of frequency                        FREQEND =                233.0 / [MHz]begin of frequency                        CALI_TM = '2022Y6M7D8H30M'     / Calibrated time                                IF_CLEAN= 'CLEANED '           / Cleaned image or dirty image                   ACCU_TM =                 1606 / accumulated time (ms)                          DATA_LEV= 'L2      '           / data level                                     TIMESYS = 'UTC     '                                                            OBS_MODE= 'NormalMode'         / operation mode of the device                   QUAL_FLG= 'TBD     '           / data quality control information               OBSERVER= 'DSRT    '           / location of observation                        DEV_STAT= 'N       '           / state of the device                            BUNIT   = 'K       '           / K or SFU,quantities and units BrightTemp       CAL_TEMP= 'T       '           / Boolean,  calibrated by temperature            OBJECT  = 'SUN     '           / Sun or Calibrator                              DEV_LAT =               29.011 / observatory latitude in degree                 DEV_LON =              100.246 / observatory longitude in degree                END                                                                                                                                                                                                                                                                                                                                                                                                                                                                                                                                                                                                                                                                                                                                                                                                                             \n",
      "\n",
      "\n",
      "===============\n",
      "\n",
      "\n",
      "XTENSION= 'BINTABLE'           / binary table extension                         BITPIX  =                    8 / array data type                                NAXIS   =                    2 / number of array dimensions                     NAXIS1  =                17304 / length of dimension 1                          NAXIS2  =                  442 / length of dimension 2                          PCOUNT  =                    0 / number of group parameters                     GCOUNT  =                    1 / number of groups                               TFIELDS =                    6 / number of table fields                         TTYPE1  = 'time    '                                                            TFORM1  = '1J      '                                                            TTYPE2  = 'freq    '                                                            TFORM2  = '1E      '                                                            TTYPE3  = 'StokesI '                                                            TFORM3  = '2116E   '                                                            TDIM3   = '(46,46) '                                                            TTYPE4  = 'StokesV '                                                            TFORM4  = '2116E   '                                                            TDIM4   = '(46,46) '                                                            TTYPE5  = 'sunx    '                                                            TFORM5  = '46E     '                                                            TDIM5   = '(46, )  '                                                            TTYPE6  = 'suny    '                                                            TFORM6  = '46E     '                                                            TDIM6   = '(46, )  '                                                            DATE-OBS= '2022-04-17T03:26:00.291600' / observation time                       RSUN_OBS=    955.7420910987998 / solar radius in arcsec                         TIMEUNIT= 'ms      '           / counted by millisecond                         END                                                                                                                                                                                                                                                                                                                                                                                                                                                                                                                                                                                                                                                                                                                                             \n"
     ]
    }
   ],
   "source": [
    "# 测试取出头信息\n",
    "\n",
    "from astropy.io import fits\n",
    "\n",
    "path = r'/home/gytide/dsrtprod/data/2023/03/dsrtimg/ODACH_CART02_SRIM_L2_233MHz_20220417032600_V01.10.fits'\n",
    "\n",
    "hdu = fits.open(path)\n",
    "header = fits.getheader(path,ext=0)\n",
    "header1 = fits.getheader(path,ext=1)\n",
    "print(hdu.info())\n",
    "print(header)\n",
    "print(\"\\n\\n===============\\n\\n\")\n",
    "print(header1)"
   ]
  },
  {
   "cell_type": "code",
   "execution_count": 8,
   "id": "c91ca2ae",
   "metadata": {},
   "outputs": [
    {
     "name": "stdout",
     "output_type": "stream",
     "text": [
      "Filename: /home/gytide/dsrtprod/data/2023/03/dsrtimg/ODACH_CART02_SRIM_L2_STP_20220417032600_V01.10.fits\n",
      "No.    Name      Ver    Type      Cards   Dimensions   Format\n",
      "  0  PRIMARY       1 PrimaryHDU      26   ()      \n",
      "  1                1 BinTableHDU     27   442R x 6C   ['1J', '1E', '2116E', '2116E', '46E', '46E']   \n",
      "  2                1 BinTableHDU     27   601R x 6C   [1J, 1E, 2704E, 2704E, 52E, 52E]   \n",
      "None\n",
      "SIMPLE  =                    T / conforms to FITS standard                      BITPIX  =                    8 / array data type                                NAXIS   =                    0 / number of array dimensions                     EXTEND  =                    T                                                  DATE_OBS= '2022-04-17T03:26:00.291600' / observation time                       RSUN_OBS=    955.7420910987998 / [arcsec] Apparent radius of the Sun seen by DSRR_SUN   =    7.429604441065175 / Radius of the Sun in pixels                    CROTA2  =   -25.35583321032033 / [deg] Angle of solar pole with image           TIMEBEG = '2022-04-17T03:26:00.291600' / begin of time                          TIMEEND = '2022-04-17T03:39:58.916533' / begin of time                          FREQBEG =                233.0 / [MHz]begin of frequency                        FREQEND =                233.0 / [MHz]begin of frequency                        CALI_TM = '2022Y6M7D8H30M'     / Calibrated time                                IF_CLEAN= 'CLEANED '           / Cleaned image or dirty image                   ACCU_TM =                 1606 / accumulated time (ms)                          DATA_LEV= 'L2      '           / data level                                     TIMESYS = 'UTC     '                                                            OBS_MODE= 'NormalMode'         / operation mode of the device                   QUAL_FLG= 'TBD     '           / data quality control information               OBSERVER= 'DSRT    '           / location of observation                        DEV_STAT= 'N       '           / state of the device                            BUNIT   = 'K       '           / K or SFU,quantities and units BrightTemp       CAL_TEMP= 'T       '           / Boolean,  calibrated by temperature            OBJECT  = 'SUN     '           / Sun or Calibrator                              DEV_LAT =               29.011 / observatory latitude in degree                 DEV_LON =              100.246 / observatory longitude in degree                END                                                                                                                                                                                                                                                                                                                                                                                                                                                                                                                                                                                                                                                                                                                                                                                                                             \n",
      "\n",
      "\n",
      "===============\n",
      "\n",
      "\n",
      "XTENSION= 'BINTABLE'           / binary table extension                         BITPIX  =                    8 / array data type                                NAXIS   =                    2 / number of array dimensions                     NAXIS1  =                17304 / length of dimension 1                          NAXIS2  =                  442 / length of dimension 2                          PCOUNT  =                    0 / number of group parameters                     GCOUNT  =                    1 / number of groups                               TFIELDS =                    6 / number of table fields                         TTYPE1  = 'time    '                                                            TFORM1  = '1J      '                                                            TTYPE2  = 'freq    '                                                            TFORM2  = '1E      '                                                            TTYPE3  = 'StokesI '                                                            TFORM3  = '2116E   '                                                            TDIM3   = '(46,46) '                                                            TTYPE4  = 'StokesV '                                                            TFORM4  = '2116E   '                                                            TDIM4   = '(46,46) '                                                            TTYPE5  = 'sunx    '                                                            TFORM5  = '46E     '                                                            TDIM5   = '(46, )  '                                                            TTYPE6  = 'suny    '                                                            TFORM6  = '46E     '                                                            TDIM6   = '(46, )  '                                                            DATE-OBS= '2022-04-17T03:26:00.291600' / observation time                       RSUN_OBS=    955.7420910987998 / solar radius in arcsec                         TIMEUNIT= 'ms      '           / counted by millisecond                         END                                                                                                                                                                                                                                                                                                                                                                                                                                                                                                                                                                                                                                                                                                                                             \n",
      "\n",
      "\n",
      "===============\n",
      "\n",
      "\n",
      "XTENSION= 'BINTABLE'           / binary table extension                         BITPIX  =                    8 / array data type                                NAXIS   =                    2 / number of array dimensions                     NAXIS1  =                22056 / length of dimension 1                          NAXIS2  =                  601 / length of dimension 2                          PCOUNT  =                    0 / number of group parameters                     GCOUNT  =                    1 / number of groups                               TFIELDS =                    6 / number of table fields                         TTYPE1  = 'time    '                                                            TFORM1  = '1J      '                                                            TTYPE2  = 'freq    '                                                            TFORM2  = '1E      '                                                            TTYPE3  = 'StokesH '                                                            TFORM3  = '2704E   '                                                            TDIM3   = '(52,52) '                                                            TTYPE4  = 'StokesV '                                                            TFORM4  = '2704E   '                                                            TDIM4   = '(52,52) '                                                            TTYPE5  = 'sunx    '                                                            TFORM5  = '52E     '                                                            TDIM5   = '(52, )  '                                                            TTYPE6  = 'suny    '                                                            TFORM6  = '52E     '                                                            TDIM6   = '(52, )  '                                                            DATE-OBS= '2022-04-17T03:20:43.397407' / observation time                       RSUN_OBS=    955.7430694195256 / solar radius in arcsec                         TIMEUNIT= 'ms      '           / counted by millisecond                         END                                                                                                                                                                                                                                                                                                                                                                                                                                                                                                                                                                                                                                                                                                                                             \n",
      "(442, 46) [-2829.9077  -2701.268   -2572.6294  -2443.9917  -2315.355   -2186.7192\n",
      " -2058.0842  -1929.4502  -1800.8168  -1672.1841  -1543.552   -1414.9205\n",
      " -1286.2897  -1157.6593  -1029.0293   -900.3998   -771.7706   -643.1417\n",
      "  -514.51306  -385.88464  -257.25635  -128.62814     0.        128.62814\n",
      "   257.25635   385.88464   514.51306   643.1417    771.7706    900.3998\n",
      "  1029.0293   1157.6593   1286.2897   1414.9205   1543.552    1672.1841\n",
      "  1800.8168   1929.4502   2058.0842   2186.7192   2315.355    2443.9917\n",
      "  2572.6294   2701.268    2829.9077   2958.5486 ]\n"
     ]
    }
   ],
   "source": [
    "# 测试取出头信息\n",
    "\n",
    "from astropy.io import fits\n",
    "\n",
    "path = r'/home/gytide/dsrtprod/data/2023/03/dsrtimg/ODACH_CART02_SRIM_L2_STP_20220417032600_V01.10.fits'\n",
    "\n",
    "hdu = fits.open(path)\n",
    "header = fits.getheader(path,ext=0)\n",
    "header1 = fits.getheader(path,ext=1)\n",
    "header2 = fits.getheader(path,ext=2)\n",
    "\n",
    "data = hdu[1].data['sunx']\n",
    "print(hdu.info())\n",
    "print(header)\n",
    "print(\"\\n\\n===============\\n\\n\")\n",
    "print(header1)\n",
    "print(\"\\n\\n===============\\n\\n\")\n",
    "print(header2)\n",
    "\n",
    "\n",
    "print(data.shape,data[0])"
   ]
  }
 ],
 "metadata": {
  "kernelspec": {
   "display_name": "dsrtdev",
   "language": "python",
   "name": "python3"
  },
  "language_info": {
   "codemirror_mode": {
    "name": "ipython",
    "version": 3
   },
   "file_extension": ".py",
   "mimetype": "text/x-python",
   "name": "python",
   "nbconvert_exporter": "python",
   "pygments_lexer": "ipython3",
   "version": "3.10.8"
  },
  "vscode": {
   "interpreter": {
    "hash": "8e2b0de3711fb5d9ea933a1053ee4d25f6ca69e5f1f07c345aab1b061cd16890"
   }
  }
 },
 "nbformat": 4,
 "nbformat_minor": 5
}

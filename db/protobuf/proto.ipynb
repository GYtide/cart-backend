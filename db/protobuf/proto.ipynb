{
 "cells": [
  {
   "cell_type": "code",
   "execution_count": 27,
   "metadata": {},
   "outputs": [
    {
     "name": "stdout",
     "output_type": "stream",
     "text": [
      "(54,) (709,) (2, 709, 54)\n"
     ]
    }
   ],
   "source": [
    "import frame_pb2 as frame_pb2\n",
    "import numpy as np\n",
    "from astropy.io import fits\n",
    "def compress_matrix(timearr,spearr,matrix, max_elements):\n",
    "    \"\"\"\n",
    "    对给定的矩阵进行间隔采样，使其元素数量不超过指定的最大值。\n",
    "    \n",
    "    参数：\n",
    "    matrix -- 要进行采样的矩阵\n",
    "    max_elements -- 最大的元素数量\n",
    "    \n",
    "    返回值：\n",
    "    采样后的矩阵\n",
    "    \"\"\"\n",
    "    # 获取矩阵的形状和元素数量\n",
    "    lay,rows, cols = matrix.shape\n",
    "    num_elements = rows * cols\n",
    "    \n",
    "    # 计算采样间隔\n",
    "    interval = int(np.ceil(np.sqrt(num_elements / max_elements)))\n",
    "    \n",
    "    # 采样矩阵\n",
    "    compressed_matrix = matrix[:,::interval, ::interval]\n",
    "    timearr = timearr[::interval]\n",
    "    spearr = spearr[::interval]\n",
    "    \n",
    "    return [timearr,spearr,compressed_matrix]\n",
    "\n",
    "path = r'/home/gytide/dsrtprod/data/2023/03/dsrtspe/ODACH_CART05_SRSP_L1_STP_20220417061006_V01.01.fits'\n",
    "hdu = fits.open(path)\n",
    "\n",
    "data = hdu[0].data[0]\n",
    "\n",
    "img = data\n",
    "frame = frame_pb2.SpeFrame()\n",
    "\n",
    "data = hdu[0].data  # 读取 SPE 文件中的 data 数组\n",
    "time = hdu[1].data['TIME'][0]  # 读取 SPE 文件中的 time\n",
    "frequency = hdu[1].data['frequency'][0]  # 读取 SPE 文件中的 frequency\n",
    "\n",
    "\n",
    "time,spe,data =  compress_matrix(time,frequency,data,40000)\n",
    "print(time.shape,spe.shape,data.shape)\n",
    "\n",
    "frame.time.extend(time)\n",
    "frame.freq.extend(frequency)\n",
    "\n",
    "for row in data[0]:\n",
    "    frame.stokesi.extend(row)\n",
    "for row in data[1]:\n",
    "    frame.stokesv.extend(row)\n",
    "\n"
   ]
  }
 ],
 "metadata": {
  "kernelspec": {
   "display_name": "dsrt",
   "language": "python",
   "name": "python3"
  },
  "language_info": {
   "codemirror_mode": {
    "name": "ipython",
    "version": 3
   },
   "file_extension": ".py",
   "mimetype": "text/x-python",
   "name": "python",
   "nbconvert_exporter": "python",
   "pygments_lexer": "ipython3",
   "version": "3.8.13"
  },
  "orig_nbformat": 4
 },
 "nbformat": 4,
 "nbformat_minor": 2
}
